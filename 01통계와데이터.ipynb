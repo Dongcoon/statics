{
 "cells": [
  {
   "cell_type": "markdown",
   "id": "8910c743-9a10-459d-bcac-b90dfb98b34e",
   "metadata": {},
   "source": [
    "# 통계\n",
    "* 분석하고자 하는 집단과 관련해 조사나 실험의 결과로 얻는 자료 또는 이의 요약된 형태를 의미\n",
    "* 통계학 : 좀더 효과적인 의사결정을 할 수 있도록 수치자료를 수집,정리,표현,분석하는 학문\n",
    "* 통계는 항상 반례 가능성을 가지고 있음\n",
    "* 관련 통계 분야 : 사회과학통계, 자연과학통계, 수학학통계"
   ]
  },
  {
   "cell_type": "markdown",
   "id": "9b19abe0-7091-469c-80ab-92b4c8ec7319",
   "metadata": {},
   "source": [
    "# 통계학의 유형\n",
    "### 1. 기술통계학\n",
    "  * 자료중심 통계\n",
    "  * 수집한 데이터를 요약, 묘사, 설명하는 통계기법 \n",
    "  * 그래프,표,수치를 이용해서 집단의 특성 파악\n",
    "  * 예) 대표값, 분산\n",
    "\n",
    "### 2. 추론통계학 \n",
    "  * 예측 중심 통계 (중요도높음)\n",
    "  * 수집된 데이터를 바탕으로 예측하는 통계기법\n",
    "  * 관측된 자료를 이용해서 모집단 특성 추측\n",
    "    + 모수통계 \n",
    "      - 빈도분석\n",
    "      - 상관분석\n",
    "      - 세 집단이상 평균분석\n",
    "      - 회귀분석(!!!)\n",
    "    + 비모수통계\n",
    "      - 적합도검증\n",
    "      - 변수간 상관분석"
   ]
  },
  {
   "cell_type": "markdown",
   "id": "20355b4f-d886-43e8-a8fb-49d48baa0fa5",
   "metadata": {},
   "source": [
    "# 자료의 종류\n",
    "### 1. 질적자료 \n",
    "  * **문자로 표현된 자료**\n",
    "    + 명목자료 : 일반적인 범주형 데이터\n",
    "      ex) 남,여\n",
    "    + 순서자료 : 순서의 의미가 포함된 데이터\n",
    "      ex) 초등학교,중학교,고등학교,대학교\n",
    "\n",
    "### 2. 양적자료 \n",
    "  * **숫자로 표현된 자료**\n",
    "  * **이산형** : 셈이 가능한 양적자료, 정수형데이터\n",
    "  * **연속형** : 셈이 불가능한 양적자료, 실수형 데이터\n",
    "    + 구간자료 : 양적자료를 구간별로 나누어 명목/순서의 의미를 포함시킨 데이터\n",
    "      ex) 수,우,미,양,가\n",
    "    + 비율자료 : 양적자료를 구간별로 나누어 서열/비율(산술)의 의미를 포함시킨 데이터\n",
    "      ex) 몸무게, 시간, 키 "
   ]
  },
  {
   "cell_type": "markdown",
   "id": "7d199f55-d734-48a6-95ef-630fb4d1adf2",
   "metadata": {},
   "source": [
    "# 데이터를 이해하는 마음가짐\n",
    "\n",
    "* **데이터가 숲이라고 가정한다면**\n",
    "  + 처음부터 숲의 나무를 보고 자세히 관찰한다기 보다는\n",
    "  + 개략적으로 숲의 모양을 보고 특징을 파악하고 나무를 관찰할 것!\n",
    "  + 데이터도 이런식의 접근방식을 사용해야 함\n",
    "\n",
    "* **데이터의 특징이란**\n",
    "  + 말로 표현하기 보다는 숫자로 표현하여야 하고\n",
    "  + 주로 평균,편차 등등을 활용하는데\n",
    "  + 이렇게 숫자로 데이터의 특징을 표현하는 과정을 **`요약summary`** 이라함\n",
    "\n",
    "* **데이터 분석 순서**\n",
    "  + 데이터를 처음 만나면\n",
    "  + 요약을 먼저하고 데이터의 특징을 파악해서\n",
    "  + 어떤 차이가 있는지 파악해서\n",
    "  + 데이터 분석방향을 설정할 것!\n"
   ]
  },
  {
   "cell_type": "markdown",
   "id": "52013b84-e39d-41bf-a8b6-b8649971faad",
   "metadata": {},
   "source": [
    "# 자료의 종류\n",
    "* 질적자료 : 문자로 표현된 자료\n",
    "\t+ 명목자료 : 일반적인 범주형 데이터\n",
    "\t\tex) 남,여\n",
    "\t+ 순서자료 : 순서의 의미가 포함된 데이터\n",
    "\t\tex) 초등학교,중학교,고등학교,대학교\n",
    "\t+ 구간자료 : 양적자료를 구간별로 나누어 명목/순서의 의미를 포함시킨 데이터\n",
    "\t\tex) 수,우,미,양,가\n",
    "\t+ 비율자료 : 양적자료를 구간별로 나누어 서열/비율(산술)의 의미를 포함시킨 데이터\n",
    "\t\tex) 몸무게, 시간, 키 \n",
    "* 양적자료 : 숫자로 표현된 자료\n",
    "\t+ 이산형 : 셈이 가능한 양적자료, 정수형데이터\n",
    "\t+ 연속형 : 셈이 불가능한 양적자료, 실수형 데이터\n",
    "\n"
   ]
  },
  {
   "cell_type": "markdown",
   "id": "b17eaf07-9bc8-4804-b3c0-2ef5c3767f25",
   "metadata": {},
   "source": [
    "# 기술통계 분석관점\n",
    "\n",
    "### 1. 중심화경향 \n",
    "  * 수집한 자료 전체를 대표하는 값이 무엇인지 나타내는 통계 (대표값)\n",
    "    + 평균 : 자료를 모두 더해서 전체 자료의 갯수로 나눈 값 (정량적 자료의 대표값)   \n",
    "    + 중앙값 : 자료를 크기 순으로 정렬했을 때, 중앙에 위치하는 값 (순서자료의 대표값)\n",
    "    + 최빈값 : 수집한 데이터 중 그 빈도가 가장 많이 나타나는 데이터 (명목자료의 대표값)     \n",
    "\n",
    "### 2. 분산경향 \n",
    "  * 데이터가 어떻게 분포되어 있는지 설명하는 통계치\n",
    " 범위\n",
    "    + 사분위수\n",
    "    + 분산\n",
    "    + 표준편차"
   ]
  },
  {
   "cell_type": "code",
   "execution_count": null,
   "id": "6963ae7d-3785-472f-bc2c-71b320a8803b",
   "metadata": {},
   "outputs": [],
   "source": [
    "conda install -y pandas"
   ]
  },
  {
   "cell_type": "code",
   "execution_count": null,
   "id": "eed8a66d-5919-4217-b8c7-6bf9713dcbe4",
   "metadata": {},
   "outputs": [],
   "source": [
    "conda install -y numpy"
   ]
  },
  {
   "cell_type": "code",
   "execution_count": null,
   "id": "45f05523-ef3a-439d-bab5-1c0549dfd283",
   "metadata": {},
   "outputs": [],
   "source": [
    "conda install -y scipy"
   ]
  },
  {
   "cell_type": "code",
   "execution_count": 97,
   "id": "712e7aa4-dba1-4def-b687-deea0cc32710",
   "metadata": {},
   "outputs": [],
   "source": [
    "import numpy as np\n",
    "import pandas as pd\n",
    "import scipy.stats as sp"
   ]
  },
  {
   "cell_type": "markdown",
   "id": "f0b93b7b-87b2-4572-a5e9-80078633e24d",
   "metadata": {},
   "source": [
    "# 대표값\n",
    "### **평균 : 중심 척도의 대표적인 통계값**\n",
    "\n",
    "* 평균은 유일하다\n",
    "* 평균은 계산하기 쉽다\n",
    "* 모든 측정값을 반영한다\n",
    "* 단, 평균은 특이값(이상치)에 영향을 받는다\n",
    " ### $ \\bar x = {1 \\over n} \\sum x_i $ : 표본평균"
   ]
  },
  {
   "cell_type": "code",
   "execution_count": 6,
   "id": "2662042b-8870-4643-ac5b-52139a7e7fad",
   "metadata": {},
   "outputs": [
    {
     "name": "stdout",
     "output_type": "stream",
     "text": [
      "5.5 5.5\n"
     ]
    }
   ],
   "source": [
    "nums1 = [1,2,3,4,5,6,7,8,9,10]\n",
    "\n",
    "mean1 = sum(nums1) / len(nums1)\n",
    "mean2 = np.mean(nums1)\n",
    "\n",
    "print(mean1,mean2)"
   ]
  },
  {
   "cell_type": "code",
   "execution_count": 11,
   "id": "3cd13914-3391-4eed-9d8c-b7369928bb17",
   "metadata": {},
   "outputs": [
    {
     "name": "stdout",
     "output_type": "stream",
     "text": [
      "46.03703703703704\n"
     ]
    }
   ],
   "source": [
    "# 조선조왕들의 평균수명 조사\n",
    "\n",
    "kings = [73,62,45,53,38,16,51,28,37,30,56,30,33,56,\n",
    "         66,54,40,33,59,36,82,48,44,22,32,67,52]\n",
    "\n",
    "mean_k = np.mean(kings)\n",
    "\n",
    "print(mean_k)"
   ]
  },
  {
   "cell_type": "code",
   "execution_count": 10,
   "id": "bce53649-c407-4ce6-ab19-de62e5cbe85e",
   "metadata": {},
   "outputs": [
    {
     "name": "stdout",
     "output_type": "stream",
     "text": [
      "20.238095238095237\n"
     ]
    }
   ],
   "source": [
    "# 대학원생의 평균 나이 조사\n",
    "studs = [19,18,19,21,20,24,19,19,20,18,21,22,23,21,19,18,22,24,21,18,19]\n",
    "\n",
    "mean_s = np.mean(studs)\n",
    "\n",
    "print(mean_s)"
   ]
  },
  {
   "cell_type": "markdown",
   "id": "71e0f75b-8e9b-454e-a495-171cd69fab1d",
   "metadata": {},
   "source": [
    "# 중앙값median\n",
    "* 자료를 오름차순으로 나열한 후 가장 가운데 놓인 수\n",
    "* 특이값의 영향을 받는 평균을 보완한 수치\n",
    "* 자료 갯수가 짝수인 경우와 홀수인 경우 계산하는 방법이 다름\n",
    "  + 데이터의 개수 $n$이 홀수라면, $\\frac{(n+1)}{2} $번째 데이터가 중앙값\n",
    "  + 데이터의 개수 $n$이 짝수라면, $\\frac{n}{2}$번째 데이터와 $\\frac{n}{2} + 1$번째 데이터의 평균이 중앙값"
   ]
  },
  {
   "cell_type": "code",
   "execution_count": 21,
   "id": "147430bc-ec44-43fc-901e-a5e8bee2467d",
   "metadata": {},
   "outputs": [
    {
     "name": "stdout",
     "output_type": "stream",
     "text": [
      "5 6\n"
     ]
    }
   ],
   "source": [
    "nums2 = [1,2,3,4,5,6,7,8,9]\n",
    "\n",
    "pos = int((len(nums2)+1) / 2) - 1 # 홀수\n",
    "\n",
    "pos1 = int(len(nums1) / 2  - 1) + 1  # 짝수\n",
    "\n",
    "print(nums2[pos], nums1[pos1])"
   ]
  },
  {
   "cell_type": "code",
   "execution_count": 20,
   "id": "d6b68d5c-04c2-4741-8db0-46b071759d66",
   "metadata": {},
   "outputs": [
    {
     "name": "stdout",
     "output_type": "stream",
     "text": [
      "5.0 5.5\n",
      "45.0 20.0\n"
     ]
    }
   ],
   "source": [
    "# numpy의 median함수 사용\n",
    "\n",
    "print(np.median(nums2),np.median(nums1))\n",
    "\n",
    "print(np.median(kings), np.median(studs))"
   ]
  },
  {
   "cell_type": "code",
   "execution_count": 42,
   "id": "277cd230-c86c-446a-8465-c7c849f7dd62",
   "metadata": {},
   "outputs": [
    {
     "name": "stdout",
     "output_type": "stream",
     "text": [
      "45\n"
     ]
    },
    {
     "data": {
      "text/plain": [
       "45.0"
      ]
     },
     "execution_count": 42,
     "metadata": {},
     "output_type": "execute_result"
    }
   ],
   "source": [
    "# 조선조왕들의 평균수명 조사\n",
    "# 단, 정렬시 sorted(대상) 함수 사용!\n",
    "kings = [73,62,45,53,38,16,51,28,37,30,56,30,33,56,\n",
    "         66,54,40,33,59,36,82,48,44,22,32,67,52]\n",
    "\n",
    "kings_s = sorted(kings)\n",
    "\n",
    "pos_k = int((len(kings_s)+1) / 2) - 1\n",
    "\n",
    "print(kings_s[pos_k])\n",
    "np.median(kings)"
   ]
  },
  {
   "cell_type": "code",
   "execution_count": 44,
   "id": "0c602db4-dac6-40fa-808b-3c96c96c32ff",
   "metadata": {},
   "outputs": [
    {
     "name": "stdout",
     "output_type": "stream",
     "text": [
      "20\n"
     ]
    },
    {
     "data": {
      "text/plain": [
       "20.0"
      ]
     },
     "execution_count": 44,
     "metadata": {},
     "output_type": "execute_result"
    }
   ],
   "source": [
    "# 대학원생의 평균 나이 조사\n",
    "# 단, 정렬시 sorted(대상) 함수 사용!\n",
    "studs = [19,18,19,21,20,24,19,19,20,18,21,22,23,21,19,18,22,24,21,18,19]\n",
    "\n",
    "studs_s = sorted(studs)\n",
    "\n",
    "pos_s = int((len(studs_s)+1) / 2) - 1\n",
    "\n",
    "print(studs_s[pos_s])\n",
    "np.median(studs)"
   ]
  },
  {
   "cell_type": "markdown",
   "id": "28046dce-6d03-42bd-9ade-476fc58f511c",
   "metadata": {
    "tags": []
   },
   "source": [
    "### 타이타닉 승객 나이의 평균과 중앙값"
   ]
  },
  {
   "cell_type": "code",
   "execution_count": null,
   "id": "d86a8c80-00dd-47d6-b007-659ebd3cad01",
   "metadata": {},
   "outputs": [],
   "source": [
    "# pd.read_csv(대상, 인코딩, 헤더여부, 구분자)\n",
    "titanic = pd.read_csv('data/titanic.csv',)"
   ]
  },
  {
   "cell_type": "markdown",
   "id": "e3f2904f-da9e-4e02-b175-2381e317bae4",
   "metadata": {},
   "source": [
    "### 사원들의 연봉의 평균, 중앙값"
   ]
  },
  {
   "cell_type": "code",
   "execution_count": 49,
   "id": "708112ed-7919-48fe-b401-cf6223ffe7e8",
   "metadata": {},
   "outputs": [
    {
     "data": {
      "text/html": [
       "<div>\n",
       "<style scoped>\n",
       "    .dataframe tbody tr th:only-of-type {\n",
       "        vertical-align: middle;\n",
       "    }\n",
       "\n",
       "    .dataframe tbody tr th {\n",
       "        vertical-align: top;\n",
       "    }\n",
       "\n",
       "    .dataframe thead th {\n",
       "        text-align: right;\n",
       "    }\n",
       "</style>\n",
       "<table border=\"1\" class=\"dataframe\">\n",
       "  <thead>\n",
       "    <tr style=\"text-align: right;\">\n",
       "      <th></th>\n",
       "      <th>EMPLOYEE_ID</th>\n",
       "      <th>FIRST_NAME</th>\n",
       "      <th>LAST_NAME</th>\n",
       "      <th>EMAIL</th>\n",
       "      <th>PHONE_NUMBER</th>\n",
       "      <th>HIRE_DATE</th>\n",
       "      <th>JOB_ID</th>\n",
       "      <th>SALARY</th>\n",
       "      <th>COMMISSION_PCT</th>\n",
       "      <th>MANAGER_ID</th>\n",
       "      <th>DEPARTMENT_ID</th>\n",
       "    </tr>\n",
       "  </thead>\n",
       "  <tbody>\n",
       "    <tr>\n",
       "      <th>0</th>\n",
       "      <td>100</td>\n",
       "      <td>Steven</td>\n",
       "      <td>King</td>\n",
       "      <td>SKING</td>\n",
       "      <td>515.123.4567</td>\n",
       "      <td>2003-06-17</td>\n",
       "      <td>AD_PRES</td>\n",
       "      <td>24000</td>\n",
       "      <td>NaN</td>\n",
       "      <td>NaN</td>\n",
       "      <td>90.0</td>\n",
       "    </tr>\n",
       "    <tr>\n",
       "      <th>1</th>\n",
       "      <td>101</td>\n",
       "      <td>Neena</td>\n",
       "      <td>Kochhar</td>\n",
       "      <td>NKOCHHAR</td>\n",
       "      <td>515.123.4568</td>\n",
       "      <td>2005-09-21</td>\n",
       "      <td>AD_VP</td>\n",
       "      <td>17000</td>\n",
       "      <td>NaN</td>\n",
       "      <td>100.0</td>\n",
       "      <td>90.0</td>\n",
       "    </tr>\n",
       "    <tr>\n",
       "      <th>2</th>\n",
       "      <td>102</td>\n",
       "      <td>Lex</td>\n",
       "      <td>De Haan</td>\n",
       "      <td>LDEHAAN</td>\n",
       "      <td>515.123.4569</td>\n",
       "      <td>2001-01-13</td>\n",
       "      <td>AD_VP</td>\n",
       "      <td>17000</td>\n",
       "      <td>NaN</td>\n",
       "      <td>100.0</td>\n",
       "      <td>90.0</td>\n",
       "    </tr>\n",
       "    <tr>\n",
       "      <th>3</th>\n",
       "      <td>103</td>\n",
       "      <td>Alexander</td>\n",
       "      <td>Hunold</td>\n",
       "      <td>AHUNOLD</td>\n",
       "      <td>590.423.4567</td>\n",
       "      <td>2006-01-03</td>\n",
       "      <td>IT_PROG</td>\n",
       "      <td>9000</td>\n",
       "      <td>NaN</td>\n",
       "      <td>102.0</td>\n",
       "      <td>60.0</td>\n",
       "    </tr>\n",
       "    <tr>\n",
       "      <th>4</th>\n",
       "      <td>104</td>\n",
       "      <td>Bruce</td>\n",
       "      <td>Ernst</td>\n",
       "      <td>BERNST</td>\n",
       "      <td>590.423.4568</td>\n",
       "      <td>2007-05-21</td>\n",
       "      <td>IT_PROG</td>\n",
       "      <td>6000</td>\n",
       "      <td>NaN</td>\n",
       "      <td>103.0</td>\n",
       "      <td>60.0</td>\n",
       "    </tr>\n",
       "  </tbody>\n",
       "</table>\n",
       "</div>"
      ],
      "text/plain": [
       "   EMPLOYEE_ID FIRST_NAME LAST_NAME     EMAIL  PHONE_NUMBER   HIRE_DATE  \\\n",
       "0          100     Steven      King     SKING  515.123.4567  2003-06-17   \n",
       "1          101      Neena   Kochhar  NKOCHHAR  515.123.4568  2005-09-21   \n",
       "2          102        Lex   De Haan   LDEHAAN  515.123.4569  2001-01-13   \n",
       "3          103  Alexander    Hunold   AHUNOLD  590.423.4567  2006-01-03   \n",
       "4          104      Bruce     Ernst    BERNST  590.423.4568  2007-05-21   \n",
       "\n",
       "    JOB_ID  SALARY  COMMISSION_PCT  MANAGER_ID  DEPARTMENT_ID  \n",
       "0  AD_PRES   24000             NaN         NaN           90.0  \n",
       "1    AD_VP   17000             NaN       100.0           90.0  \n",
       "2    AD_VP   17000             NaN       100.0           90.0  \n",
       "3  IT_PROG    9000             NaN       102.0           60.0  \n",
       "4  IT_PROG    6000             NaN       103.0           60.0  "
      ]
     },
     "execution_count": 49,
     "metadata": {},
     "output_type": "execute_result"
    }
   ],
   "source": [
    "# pd.read_csv(대상, 인코딩, 헤더여부, 구분자)\n",
    "emp = pd.read_csv('data/EMPLOYEES.csv')\n",
    "emp.head()"
   ]
  },
  {
   "cell_type": "code",
   "execution_count": 62,
   "id": "87dd2a26-8470-4b5b-b65d-726994fd02a4",
   "metadata": {},
   "outputs": [
    {
     "name": "stdout",
     "output_type": "stream",
     "text": [
      "6200\n",
      "6200.0\n",
      "6461.83 6461.83\n"
     ]
    }
   ],
   "source": [
    "# pandas 객체에서 특정 컬럼을 지정하려면 : 객체명.컬럼명, 객체명[컬럼명]\n",
    "emp_m = sorted(emp.SALARY)\n",
    "\n",
    "pos = int((len(emp_m)+1)/2)-1\n",
    "\n",
    "print(emp_m[pos])\n",
    "print(np.median(emp.SALARY)) # 중앙값\n",
    "\n",
    "#-----------------------------\n",
    "emp_sum = sum(emp.SALARY) / len(emp.SALARY)\n",
    "emp_sum_np = np.round(np.mean(emp.SALARY),2)  # 평균값\n",
    "\n",
    "print(np.round(emp_sum,2),emp_sum_np)"
   ]
  },
  {
   "cell_type": "markdown",
   "id": "4436ac9b-60aa-4911-8e8f-5b774ca17e24",
   "metadata": {
    "tags": []
   },
   "source": [
    "### 기말고사 성적에 대한 평균, 중앙값"
   ]
  },
  {
   "cell_type": "code",
   "execution_count": 65,
   "id": "e3143b09-b31f-4854-b3d3-410baced4303",
   "metadata": {},
   "outputs": [
    {
     "name": "stdout",
     "output_type": "stream",
     "text": [
      "80.0 79.0\n",
      "80.57 71.88\n"
     ]
    }
   ],
   "source": [
    "A = [86,67,91,80,78,93,69]\n",
    "B = [63,54,80,91,78,86,30,93]\n",
    "\n",
    "rMeA = np.round(np.mean(A),2)\n",
    "rMdA = np.round(np.median(A),2)\n",
    "\n",
    "rMeB = np.round(np.mean(B),2)\n",
    "rMdB = np.round(np.median(B),2)\n",
    "\n",
    "print(rMdA,rMdB)\n",
    "print(rMeA,rMeB)"
   ]
  },
  {
   "cell_type": "markdown",
   "id": "2aa4f148-edc4-4d44-878e-f2fd506343ec",
   "metadata": {},
   "source": [
    "## 데이터를 pandas 객체로 다루기"
   ]
  },
  {
   "cell_type": "code",
   "execution_count": null,
   "id": "cb75f362-8bfd-4629-bc90-029ad6126aa8",
   "metadata": {},
   "outputs": [],
   "source": [
    "# Series는 1차원 데이터를 정의하는 자료구조\n",
    "c = pd.Series(A)\n",
    "d = pd.Series(B)\n",
    "print(c,d)"
   ]
  },
  {
   "cell_type": "code",
   "execution_count": 129,
   "id": "e5d746c9-c84f-4d43-a47d-9da2290e925a",
   "metadata": {},
   "outputs": [
    {
     "data": {
      "text/html": [
       "<div>\n",
       "<style scoped>\n",
       "    .dataframe tbody tr th:only-of-type {\n",
       "        vertical-align: middle;\n",
       "    }\n",
       "\n",
       "    .dataframe tbody tr th {\n",
       "        vertical-align: top;\n",
       "    }\n",
       "\n",
       "    .dataframe thead th {\n",
       "        text-align: right;\n",
       "    }\n",
       "</style>\n",
       "<table border=\"1\" class=\"dataframe\">\n",
       "  <thead>\n",
       "    <tr style=\"text-align: right;\">\n",
       "      <th></th>\n",
       "      <th>A반</th>\n",
       "      <th>B반</th>\n",
       "    </tr>\n",
       "  </thead>\n",
       "  <tbody>\n",
       "    <tr>\n",
       "      <th>0</th>\n",
       "      <td>86</td>\n",
       "      <td>63</td>\n",
       "    </tr>\n",
       "    <tr>\n",
       "      <th>1</th>\n",
       "      <td>67</td>\n",
       "      <td>54</td>\n",
       "    </tr>\n",
       "    <tr>\n",
       "      <th>2</th>\n",
       "      <td>91</td>\n",
       "      <td>80</td>\n",
       "    </tr>\n",
       "    <tr>\n",
       "      <th>3</th>\n",
       "      <td>80</td>\n",
       "      <td>91</td>\n",
       "    </tr>\n",
       "    <tr>\n",
       "      <th>4</th>\n",
       "      <td>78</td>\n",
       "      <td>78</td>\n",
       "    </tr>\n",
       "  </tbody>\n",
       "</table>\n",
       "</div>"
      ],
      "text/plain": [
       "   A반  B반\n",
       "0  86  63\n",
       "1  67  54\n",
       "2  91  80\n",
       "3  80  91\n",
       "4  78  78"
      ]
     },
     "execution_count": 129,
     "metadata": {},
     "output_type": "execute_result"
    }
   ],
   "source": [
    "# 2차원배열인 데이터프레임 객체 생성\n",
    "# DataFrame(dict구조) : 열 우선\n",
    "a = [86,67,91,80,78,93,69,0]\n",
    "b = [63,54,80,91,78,86,30,93]\n",
    "\n",
    "sj = pd.DataFrame({'A반':a,'B반':b}) # {컬럼명:대상객체}\n",
    "sj.head()"
   ]
  },
  {
   "cell_type": "code",
   "execution_count": 84,
   "id": "63a279a9-ea85-44e6-85a1-9cf9cf2d6762",
   "metadata": {},
   "outputs": [
    {
     "data": {
      "text/plain": [
       "(70.5, 71.875)"
      ]
     },
     "execution_count": 84,
     "metadata": {},
     "output_type": "execute_result"
    }
   ],
   "source": [
    "# 특정컬럼 지정 : 객체명.컬럼명\n",
    "np.mean(sj.A반),np.mean(sj.B반)"
   ]
  },
  {
   "cell_type": "code",
   "execution_count": 81,
   "id": "98598dc1-44ae-4efe-a8b5-5b64034bc4c8",
   "metadata": {},
   "outputs": [
    {
     "data": {
      "text/plain": [
       "(79.0, 79.0)"
      ]
     },
     "execution_count": 81,
     "metadata": {},
     "output_type": "execute_result"
    }
   ],
   "source": [
    "np.median(sj.A반),np.median(sj.B반)"
   ]
  },
  {
   "cell_type": "code",
   "execution_count": 83,
   "id": "d8d2b46c-bf4f-4a0c-a70d-e6c390e822fa",
   "metadata": {},
   "outputs": [
    {
     "data": {
      "text/plain": [
       "A반    70.500\n",
       "B반    71.875\n",
       "dtype: float64"
      ]
     },
     "execution_count": 83,
     "metadata": {},
     "output_type": "execute_result"
    }
   ],
   "source": [
    "sj.mean()"
   ]
  },
  {
   "cell_type": "code",
   "execution_count": null,
   "id": "42c81df6-b79e-4cc0-96f7-2439d55f674d",
   "metadata": {},
   "outputs": [],
   "source": [
    "# 2차원배열인 데이터프레임 객체 생성\n",
    "# DataFrame(data=zip(배열),colums=컬럼명) : 행우선\n",
    "sj = pd.DataFrame(data = zip(a,b),columns=['A반','B반'])\n",
    "sj"
   ]
  },
  {
   "cell_type": "markdown",
   "id": "e71a768a-5ccd-494c-b30c-679f09f2e2dd",
   "metadata": {},
   "source": [
    "# 최빈값\n",
    "* 데이터들 중에서 빈도수가 가장 큰 값\n",
    "* 두번 이상 발생하는 자료 중에서 자주 나타나는 자료값\n",
    "* 극단값에 전혀 영향을 받지 않음\n",
    "* 존재하지 않거나 여러개 존재할 수 있음"
   ]
  },
  {
   "cell_type": "code",
   "execution_count": 99,
   "id": "03a8d2e2-acc3-4ae3-91ec-c86c248f6cd7",
   "metadata": {},
   "outputs": [
    {
     "name": "stdout",
     "output_type": "stream",
     "text": [
      "30 2\n"
     ]
    }
   ],
   "source": [
    "# 조선조 왕들의 수명의 최빈값 조사\n",
    "kings = [73,62,45,53,38,16,51,28,37,30,56,30,33,56,\n",
    "         66,54,40,33,59,36,82,48,44,22,32,67,52]\n",
    "modek = sp.mode(kings, keepdims=False)\n",
    "print(modek.mode, modek.count)  # 33,56은 제외"
   ]
  },
  {
   "cell_type": "code",
   "execution_count": 101,
   "id": "f9f3e07d-4169-42b8-9f7d-b09a0e470dde",
   "metadata": {},
   "outputs": [
    {
     "data": {
      "text/plain": [
       "30    2\n",
       "33    2\n",
       "56    2\n",
       "16    1\n",
       "51    1\n",
       "dtype: int64"
      ]
     },
     "execution_count": 101,
     "metadata": {},
     "output_type": "execute_result"
    }
   ],
   "source": [
    "# DataFrame 객체의 value_counts 함수 사용\n",
    "pd.DataFrame(kings).value_counts().head()"
   ]
  },
  {
   "cell_type": "code",
   "execution_count": 105,
   "id": "c00ab6b0-231b-4db4-bc29-9da385d54783",
   "metadata": {},
   "outputs": [
    {
     "name": "stdout",
     "output_type": "stream",
     "text": [
      "19 6\n",
      "19    6\n",
      "18    4\n",
      "21    4\n",
      "20    2\n",
      "22    2\n",
      "dtype: int64\n"
     ]
    }
   ],
   "source": [
    "# 대학원생들 나이의 최빈값 조사\n",
    "studs = [19,18,19,21,20,24,19,19,20,18,21,22,23,21,19,18,22,24,21,18,19]\n",
    "\n",
    "modes = sp.mode(studs, keepdims=False)\n",
    "print(modes.mode,modes.count)\n",
    "\n",
    "dK = pd.DataFrame(studs).value_counts().head()\n",
    "print(dK)"
   ]
  },
  {
   "cell_type": "markdown",
   "id": "d412283a-f6b5-4722-8331-81f9a305f9b8",
   "metadata": {},
   "source": [
    "### 사원들의 직책, 부서번호 최빈값"
   ]
  },
  {
   "cell_type": "code",
   "execution_count": 106,
   "id": "34a964d4-82b6-4288-a43b-1f29650eaa7b",
   "metadata": {},
   "outputs": [
    {
     "data": {
      "text/html": [
       "<div>\n",
       "<style scoped>\n",
       "    .dataframe tbody tr th:only-of-type {\n",
       "        vertical-align: middle;\n",
       "    }\n",
       "\n",
       "    .dataframe tbody tr th {\n",
       "        vertical-align: top;\n",
       "    }\n",
       "\n",
       "    .dataframe thead th {\n",
       "        text-align: right;\n",
       "    }\n",
       "</style>\n",
       "<table border=\"1\" class=\"dataframe\">\n",
       "  <thead>\n",
       "    <tr style=\"text-align: right;\">\n",
       "      <th></th>\n",
       "      <th>EMPLOYEE_ID</th>\n",
       "      <th>FIRST_NAME</th>\n",
       "      <th>LAST_NAME</th>\n",
       "      <th>EMAIL</th>\n",
       "      <th>PHONE_NUMBER</th>\n",
       "      <th>HIRE_DATE</th>\n",
       "      <th>JOB_ID</th>\n",
       "      <th>SALARY</th>\n",
       "      <th>COMMISSION_PCT</th>\n",
       "      <th>MANAGER_ID</th>\n",
       "      <th>DEPARTMENT_ID</th>\n",
       "    </tr>\n",
       "  </thead>\n",
       "  <tbody>\n",
       "    <tr>\n",
       "      <th>0</th>\n",
       "      <td>100</td>\n",
       "      <td>Steven</td>\n",
       "      <td>King</td>\n",
       "      <td>SKING</td>\n",
       "      <td>515.123.4567</td>\n",
       "      <td>2003-06-17</td>\n",
       "      <td>AD_PRES</td>\n",
       "      <td>24000</td>\n",
       "      <td>NaN</td>\n",
       "      <td>NaN</td>\n",
       "      <td>90.0</td>\n",
       "    </tr>\n",
       "    <tr>\n",
       "      <th>1</th>\n",
       "      <td>101</td>\n",
       "      <td>Neena</td>\n",
       "      <td>Kochhar</td>\n",
       "      <td>NKOCHHAR</td>\n",
       "      <td>515.123.4568</td>\n",
       "      <td>2005-09-21</td>\n",
       "      <td>AD_VP</td>\n",
       "      <td>17000</td>\n",
       "      <td>NaN</td>\n",
       "      <td>100.0</td>\n",
       "      <td>90.0</td>\n",
       "    </tr>\n",
       "    <tr>\n",
       "      <th>2</th>\n",
       "      <td>102</td>\n",
       "      <td>Lex</td>\n",
       "      <td>De Haan</td>\n",
       "      <td>LDEHAAN</td>\n",
       "      <td>515.123.4569</td>\n",
       "      <td>2001-01-13</td>\n",
       "      <td>AD_VP</td>\n",
       "      <td>17000</td>\n",
       "      <td>NaN</td>\n",
       "      <td>100.0</td>\n",
       "      <td>90.0</td>\n",
       "    </tr>\n",
       "    <tr>\n",
       "      <th>3</th>\n",
       "      <td>103</td>\n",
       "      <td>Alexander</td>\n",
       "      <td>Hunold</td>\n",
       "      <td>AHUNOLD</td>\n",
       "      <td>590.423.4567</td>\n",
       "      <td>2006-01-03</td>\n",
       "      <td>IT_PROG</td>\n",
       "      <td>9000</td>\n",
       "      <td>NaN</td>\n",
       "      <td>102.0</td>\n",
       "      <td>60.0</td>\n",
       "    </tr>\n",
       "    <tr>\n",
       "      <th>4</th>\n",
       "      <td>104</td>\n",
       "      <td>Bruce</td>\n",
       "      <td>Ernst</td>\n",
       "      <td>BERNST</td>\n",
       "      <td>590.423.4568</td>\n",
       "      <td>2007-05-21</td>\n",
       "      <td>IT_PROG</td>\n",
       "      <td>6000</td>\n",
       "      <td>NaN</td>\n",
       "      <td>103.0</td>\n",
       "      <td>60.0</td>\n",
       "    </tr>\n",
       "  </tbody>\n",
       "</table>\n",
       "</div>"
      ],
      "text/plain": [
       "   EMPLOYEE_ID FIRST_NAME LAST_NAME     EMAIL  PHONE_NUMBER   HIRE_DATE  \\\n",
       "0          100     Steven      King     SKING  515.123.4567  2003-06-17   \n",
       "1          101      Neena   Kochhar  NKOCHHAR  515.123.4568  2005-09-21   \n",
       "2          102        Lex   De Haan   LDEHAAN  515.123.4569  2001-01-13   \n",
       "3          103  Alexander    Hunold   AHUNOLD  590.423.4567  2006-01-03   \n",
       "4          104      Bruce     Ernst    BERNST  590.423.4568  2007-05-21   \n",
       "\n",
       "    JOB_ID  SALARY  COMMISSION_PCT  MANAGER_ID  DEPARTMENT_ID  \n",
       "0  AD_PRES   24000             NaN         NaN           90.0  \n",
       "1    AD_VP   17000             NaN       100.0           90.0  \n",
       "2    AD_VP   17000             NaN       100.0           90.0  \n",
       "3  IT_PROG    9000             NaN       102.0           60.0  \n",
       "4  IT_PROG    6000             NaN       103.0           60.0  "
      ]
     },
     "execution_count": 106,
     "metadata": {},
     "output_type": "execute_result"
    }
   ],
   "source": [
    "emp.head()"
   ]
  },
  {
   "cell_type": "code",
   "execution_count": 113,
   "id": "150b28e9-c326-4709-b016-49aaad2791f8",
   "metadata": {},
   "outputs": [
    {
     "data": {
      "text/plain": [
       "50.0     45\n",
       "80.0     34\n",
       "100.0     6\n",
       "30.0      6\n",
       "60.0      5\n",
       "Name: DEPARTMENT_ID, dtype: int64"
      ]
     },
     "execution_count": 113,
     "metadata": {},
     "output_type": "execute_result"
    }
   ],
   "source": [
    "emp.DEPARTMENT_ID.value_counts().head()"
   ]
  },
  {
   "cell_type": "code",
   "execution_count": 112,
   "id": "c0953412-31a3-46c1-a7bc-aec29fa03372",
   "metadata": {},
   "outputs": [
    {
     "data": {
      "text/plain": [
       "SA_REP      30\n",
       "ST_CLERK    20\n",
       "SH_CLERK    20\n",
       "SA_MAN       5\n",
       "IT_PROG      5\n",
       "Name: JOB_ID, dtype: int64"
      ]
     },
     "execution_count": 112,
     "metadata": {},
     "output_type": "execute_result"
    }
   ],
   "source": [
    "emp.JOB_ID.value_counts().head()"
   ]
  },
  {
   "cell_type": "markdown",
   "id": "922abe2f-cb3c-4b37-9448-d7cca892bfd5",
   "metadata": {},
   "source": [
    "### 교통사고 현황 데이터"
   ]
  },
  {
   "cell_type": "code",
   "execution_count": 167,
   "id": "bb4c0b29-2df7-4806-8b17-fefd31058c75",
   "metadata": {},
   "outputs": [
    {
     "data": {
      "text/html": [
       "<div>\n",
       "<style scoped>\n",
       "    .dataframe tbody tr th:only-of-type {\n",
       "        vertical-align: middle;\n",
       "    }\n",
       "\n",
       "    .dataframe tbody tr th {\n",
       "        vertical-align: top;\n",
       "    }\n",
       "\n",
       "    .dataframe thead th {\n",
       "        text-align: right;\n",
       "    }\n",
       "</style>\n",
       "<table border=\"1\" class=\"dataframe\">\n",
       "  <thead>\n",
       "    <tr style=\"text-align: right;\">\n",
       "      <th></th>\n",
       "      <th>주야</th>\n",
       "      <th>요일</th>\n",
       "      <th>발생지시도</th>\n",
       "      <th>발생지시군구</th>\n",
       "      <th>사고유형_대분류</th>\n",
       "      <th>법규위반</th>\n",
       "      <th>도로형태_대분류</th>\n",
       "    </tr>\n",
       "  </thead>\n",
       "  <tbody>\n",
       "    <tr>\n",
       "      <th>0</th>\n",
       "      <td>야간</td>\n",
       "      <td>금</td>\n",
       "      <td>경기</td>\n",
       "      <td>광주시</td>\n",
       "      <td>차대사람</td>\n",
       "      <td>안전운전 의무 불이행</td>\n",
       "      <td>교차로</td>\n",
       "    </tr>\n",
       "    <tr>\n",
       "      <th>1</th>\n",
       "      <td>주간</td>\n",
       "      <td>일</td>\n",
       "      <td>서울</td>\n",
       "      <td>금천구</td>\n",
       "      <td>차대사람</td>\n",
       "      <td>안전운전 의무 불이행</td>\n",
       "      <td>단일로</td>\n",
       "    </tr>\n",
       "    <tr>\n",
       "      <th>2</th>\n",
       "      <td>야간</td>\n",
       "      <td>일</td>\n",
       "      <td>충북</td>\n",
       "      <td>진천군</td>\n",
       "      <td>차대사람</td>\n",
       "      <td>안전운전 의무 불이행</td>\n",
       "      <td>단일로</td>\n",
       "    </tr>\n",
       "    <tr>\n",
       "      <th>3</th>\n",
       "      <td>주간</td>\n",
       "      <td>월</td>\n",
       "      <td>경북</td>\n",
       "      <td>경주시</td>\n",
       "      <td>차대사람</td>\n",
       "      <td>안전운전 의무 불이행</td>\n",
       "      <td>단일로</td>\n",
       "    </tr>\n",
       "    <tr>\n",
       "      <th>4</th>\n",
       "      <td>야간</td>\n",
       "      <td>수</td>\n",
       "      <td>경남</td>\n",
       "      <td>진주시</td>\n",
       "      <td>차대사람</td>\n",
       "      <td>보행자 보호의무 위반</td>\n",
       "      <td>단일로</td>\n",
       "    </tr>\n",
       "  </tbody>\n",
       "</table>\n",
       "</div>"
      ],
      "text/plain": [
       "   주야 요일 발생지시도 발생지시군구 사고유형_대분류         법규위반 도로형태_대분류\n",
       "0  야간  금    경기    광주시     차대사람  안전운전 의무 불이행      교차로\n",
       "1  주간  일    서울    금천구     차대사람  안전운전 의무 불이행      단일로\n",
       "2  야간  일    충북    진천군     차대사람  안전운전 의무 불이행      단일로\n",
       "3  주간  월    경북    경주시     차대사람  안전운전 의무 불이행      단일로\n",
       "4  야간  수    경남    진주시     차대사람  보행자 보호의무 위반      단일로"
      ]
     },
     "execution_count": 167,
     "metadata": {},
     "output_type": "execute_result"
    }
   ],
   "source": [
    "# 교통사고 현황 데이터 기술통계 1\n",
    "car = pd.read_csv('data/car.csv')\n",
    "car = car[['주야','요일','발생지시도','발생지시군구','사고유형_대분류','법규위반','도로형태_대분류']]\n",
    "\n",
    "car.head()"
   ]
  },
  {
   "cell_type": "code",
   "execution_count": 168,
   "id": "c0b88fe2-1ab4-40d9-b1a0-30207b223896",
   "metadata": {},
   "outputs": [],
   "source": [
    "day = pd.DataFrame(car.주야).value_counts().head() # 주야\n",
    "week = pd.DataFrame(car.요일).value_counts().head() # 요일\n",
    "city = pd.DataFrame(car.발생지시도).value_counts().head() # 발생지시도\n",
    "town = pd.DataFrame(car.발생지시군구).value_counts().head() # 발생지시군구\n",
    "aci_spec = pd.DataFrame(car.사고유형_대분류).value_counts().head() # 사고유형_대분류\n",
    "rules = pd.DataFrame(car.법규위반).value_counts().head() # 법규위반\n",
    "road_shape = pd.DataFrame(car.도로형태_대분류).value_counts().head() # 도로형태_대분류"
   ]
  },
  {
   "cell_type": "code",
   "execution_count": null,
   "id": "7672fbe6-25ba-4a78-bb6a-5c714f4ed637",
   "metadata": {},
   "outputs": [],
   "source": [
    "car_data = pd.DataFrame({'주야':car.주야[1,2,3,4,5]),'요일':car.요일,'발생지시도':car.발생지시도,'발생지시군구':car.발생지시군구,\n",
    "                         '사고유형_대분류':car.사고유형_대분류, '법규위반':car.법규위반,'도로형태_대분류':car.도로형태_대분류},index="
   ]
  },
  {
   "cell_type": "code",
   "execution_count": 170,
   "id": "d54dc94d-f8d8-4544-bae6-006049dbe38a",
   "metadata": {},
   "outputs": [
    {
     "data": {
      "text/html": [
       "<div>\n",
       "<style scoped>\n",
       "    .dataframe tbody tr th:only-of-type {\n",
       "        vertical-align: middle;\n",
       "    }\n",
       "\n",
       "    .dataframe tbody tr th {\n",
       "        vertical-align: top;\n",
       "    }\n",
       "\n",
       "    .dataframe thead th {\n",
       "        text-align: right;\n",
       "    }\n",
       "</style>\n",
       "<table border=\"1\" class=\"dataframe\">\n",
       "  <thead>\n",
       "    <tr style=\"text-align: right;\">\n",
       "      <th></th>\n",
       "      <th>주야</th>\n",
       "      <th>요일</th>\n",
       "      <th>발생지시도</th>\n",
       "      <th>발생지시군구</th>\n",
       "      <th>사고유형_대분류</th>\n",
       "      <th>법규위반</th>\n",
       "      <th>도로형태_대분류</th>\n",
       "    </tr>\n",
       "  </thead>\n",
       "  <tbody>\n",
       "    <tr>\n",
       "      <th>1</th>\n",
       "      <td>주간</td>\n",
       "      <td>일</td>\n",
       "      <td>서울</td>\n",
       "      <td>금천구</td>\n",
       "      <td>차대사람</td>\n",
       "      <td>안전운전 의무 불이행</td>\n",
       "      <td>단일로</td>\n",
       "    </tr>\n",
       "    <tr>\n",
       "      <th>2</th>\n",
       "      <td>야간</td>\n",
       "      <td>일</td>\n",
       "      <td>충북</td>\n",
       "      <td>진천군</td>\n",
       "      <td>차대사람</td>\n",
       "      <td>안전운전 의무 불이행</td>\n",
       "      <td>단일로</td>\n",
       "    </tr>\n",
       "    <tr>\n",
       "      <th>3</th>\n",
       "      <td>주간</td>\n",
       "      <td>월</td>\n",
       "      <td>경북</td>\n",
       "      <td>경주시</td>\n",
       "      <td>차대사람</td>\n",
       "      <td>안전운전 의무 불이행</td>\n",
       "      <td>단일로</td>\n",
       "    </tr>\n",
       "    <tr>\n",
       "      <th>4</th>\n",
       "      <td>야간</td>\n",
       "      <td>수</td>\n",
       "      <td>경남</td>\n",
       "      <td>진주시</td>\n",
       "      <td>차대사람</td>\n",
       "      <td>보행자 보호의무 위반</td>\n",
       "      <td>단일로</td>\n",
       "    </tr>\n",
       "    <tr>\n",
       "      <th>5</th>\n",
       "      <td>주간</td>\n",
       "      <td>토</td>\n",
       "      <td>경남</td>\n",
       "      <td>거제시</td>\n",
       "      <td>차대사람</td>\n",
       "      <td>안전운전 의무 불이행</td>\n",
       "      <td>단일로</td>\n",
       "    </tr>\n",
       "  </tbody>\n",
       "</table>\n",
       "</div>"
      ],
      "text/plain": [
       "   주야 요일 발생지시도 발생지시군구 사고유형_대분류         법규위반 도로형태_대분류\n",
       "1  주간  일    서울    금천구     차대사람  안전운전 의무 불이행      단일로\n",
       "2  야간  일    충북    진천군     차대사람  안전운전 의무 불이행      단일로\n",
       "3  주간  월    경북    경주시     차대사람  안전운전 의무 불이행      단일로\n",
       "4  야간  수    경남    진주시     차대사람  보행자 보호의무 위반      단일로\n",
       "5  주간  토    경남    거제시     차대사람  안전운전 의무 불이행      단일로"
      ]
     },
     "execution_count": 170,
     "metadata": {},
     "output_type": "execute_result"
    }
   ],
   "source": [
    "car_data"
   ]
  },
  {
   "cell_type": "code",
   "execution_count": 158,
   "id": "4da505bc-b766-43a5-8e05-6129ed7c40b8",
   "metadata": {},
   "outputs": [
    {
     "data": {
      "text/plain": [
       "0     2072\n",
       "1     2047\n",
       "2      666\n",
       "3      635\n",
       "4      596\n",
       "5      584\n",
       "6      565\n",
       "7      749\n",
       "8      477\n",
       "9      372\n",
       "10     359\n",
       "11     342\n",
       "12      78\n",
       "13      76\n",
       "14      75\n",
       "15      74\n",
       "16      69\n",
       "17    1647\n",
       "18    1646\n",
       "19     826\n",
       "20    4119\n",
       "21    2704\n",
       "22    1285\n",
       "23     103\n",
       "24      14\n",
       "25      13\n",
       "dtype: int64"
      ]
     },
     "execution_count": 158,
     "metadata": {},
     "output_type": "execute_result"
    }
   ],
   "source": [
    "#car_data = [day,week,city,town,aci_spec,rules,road_shape]\n",
    "#car_data = pd.DataFrame({'주야':day,'요일':week,'발생지시도':city,'발생지시군구':town,'사고유형_대분류':aci_spec, '법규위반_대분류':rules,'도로형태_대분류':road_shape},index=True)\n",
    "result1 = pd.concat([day,week,city,town,aci_spec,rules,road_shape], ignore_index=True)\n",
    "result1"
   ]
  },
  {
   "cell_type": "code",
   "execution_count": 152,
   "id": "5f0629ce-a904-4ff6-9f31-b9bfe912de75",
   "metadata": {},
   "outputs": [
    {
     "data": {
      "text/plain": [
       "[2047, 565, 342, 69, 826, 4119, 13]"
      ]
     },
     "execution_count": 152,
     "metadata": {},
     "output_type": "execute_result"
    }
   ],
   "source": [
    "car_data"
   ]
  },
  {
   "cell_type": "code",
   "execution_count": null,
   "id": "547c59bf-3c49-45ca-974f-705952b673a7",
   "metadata": {},
   "outputs": [],
   "source": []
  }
 ],
 "metadata": {
  "kernelspec": {
   "display_name": "Python 3 (ipykernel)",
   "language": "python",
   "name": "python3"
  },
  "language_info": {
   "codemirror_mode": {
    "name": "ipython",
    "version": 3
   },
   "file_extension": ".py",
   "mimetype": "text/x-python",
   "name": "python",
   "nbconvert_exporter": "python",
   "pygments_lexer": "ipython3",
   "version": "3.9.13"
  }
 },
 "nbformat": 4,
 "nbformat_minor": 5
}
