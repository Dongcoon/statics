{
 "cells": [
  {
   "cell_type": "markdown",
   "id": "8910c743-9a10-459d-bcac-b90dfb98b34e",
   "metadata": {},
   "source": [
    "# 통계\n",
    "* 분석하고자 하는 집단과 관련해 조사나 실험의 결과로 얻는 자료 또는 이의 요약된 형태를 의미\n",
    "* 통계학 : 좀더 효과적인 의사결정을 할 수 있도록 수치자료를 수집,정리,표현,분석하는 학문\n",
    "* 통계는 항상 반례 가능성을 가지고 있음\n",
    "* 관련 통계 분야 : 사회과학통계, 자연과학통계, 수학학통계"
   ]
  },
  {
   "cell_type": "markdown",
   "id": "9b19abe0-7091-469c-80ab-92b4c8ec7319",
   "metadata": {},
   "source": [
    "# 통계학의 유형\n",
    "### 1. 기술통계학\n",
    "  * 자료중심 통계\n",
    "  * 수집한 데이터를 요약, 묘사, 설명하는 통계기법 \n",
    "  * 그래프,표,수치를 이용해서 집단의 특성 파악\n",
    "  * 예) 대표값, 분산\n",
    "\n",
    "### 2. 추론통계학 \n",
    "  * 예측 중심 통계 (중요도높음)\n",
    "  * 수집된 데이터를 바탕으로 예측하는 통계기법\n",
    "  * 관측된 자료를 이용해서 모집단 특성 추측\n",
    "    + 모수통계 \n",
    "      - 빈도분석\n",
    "      - 상관분석\n",
    "      - 세 집단이상 평균분석\n",
    "      - 회귀분석(!!!)\n",
    "    + 비모수통계\n",
    "      - 적합도검증\n",
    "      - 변수간 상관분석"
   ]
  },
  {
   "cell_type": "markdown",
   "id": "20355b4f-d886-43e8-a8fb-49d48baa0fa5",
   "metadata": {},
   "source": [
    "# 자료의 종류\n",
    "### 1. 질적자료 \n",
    "  * **문자로 표현된 자료**\n",
    "    + 명목자료 : 일반적인 범주형 데이터\n",
    "      ex) 남,여\n",
    "    + 순서자료 : 순서의 의미가 포함된 데이터\n",
    "      ex) 초등학교,중학교,고등학교,대학교\n",
    "\n",
    "### 2. 양적자료 \n",
    "  * **숫자로 표현된 자료**\n",
    "  * **이산형** : 셈이 가능한 양적자료, 정수형데이터\n",
    "  * **연속형** : 셈이 불가능한 양적자료, 실수형 데이터\n",
    "    + 구간자료 : 양적자료를 구간별로 나누어 명목/순서의 의미를 포함시킨 데이터\n",
    "      ex) 수,우,미,양,가\n",
    "    + 비율자료 : 양적자료를 구간별로 나누어 서열/비율(산술)의 의미를 포함시킨 데이터\n",
    "      ex) 몸무게, 시간, 키 "
   ]
  },
  {
   "cell_type": "markdown",
   "id": "7d199f55-d734-48a6-95ef-630fb4d1adf2",
   "metadata": {},
   "source": [
    "# 데이터를 이해하는 마음가짐\n",
    "\n",
    "* **데이터가 숲이라고 가정한다면**\n",
    "  + 처음부터 숲의 나무를 보고 자세히 관찰한다기 보다는\n",
    "  + 개략적으로 숲의 모양을 보고 특징을 파악하고 나무를 관찰할 것!\n",
    "  + 데이터도 이런식의 접근방식을 사용해야 함\n",
    "\n",
    "* **데이터의 특징이란**\n",
    "  + 말로 표현하기 보다는 숫자로 표현하여야 하고\n",
    "  + 주로 평균,편차 등등을 활용하는데\n",
    "  + 이렇게 숫자로 데이터의 특징을 표현하는 과정을 **`요약summary`** 이라함\n",
    "\n",
    "* **데이터 분석 순서**\n",
    "  + 데이터를 처음 만나면\n",
    "  + 요약을 먼저하고 데이터의 특징을 파악해서\n",
    "  + 어떤 차이가 있는지 파악해서\n",
    "  + 데이터 분석방향을 설정할 것!\n"
   ]
  },
  {
   "cell_type": "markdown",
   "id": "52013b84-e39d-41bf-a8b6-b8649971faad",
   "metadata": {},
   "source": [
    "# 자료의 종류\n",
    "* 질적자료 : 문자로 표현된 자료\n",
    "\t+ 명목자료 : 일반적인 범주형 데이터\n",
    "\t\tex) 남,여\n",
    "\t+ 순서자료 : 순서의 의미가 포함된 데이터\n",
    "\t\tex) 초등학교,중학교,고등학교,대학교\n",
    "\t+ 구간자료 : 양적자료를 구간별로 나누어 명목/순서의 의미를 포함시킨 데이터\n",
    "\t\tex) 수,우,미,양,가\n",
    "\t+ 비율자료 : 양적자료를 구간별로 나누어 서열/비율(산술)의 의미를 포함시킨 데이터\n",
    "\t\tex) 몸무게, 시간, 키 \n",
    "* 양적자료 : 숫자로 표현된 자료\n",
    "\t+ 이산형 : 셈이 가능한 양적자료, 정수형데이터\n",
    "\t+ 연속형 : 셈이 불가능한 양적자료, 실수형 데이터\n",
    "\n"
   ]
  },
  {
   "cell_type": "markdown",
   "id": "b17eaf07-9bc8-4804-b3c0-2ef5c3767f25",
   "metadata": {},
   "source": [
    "# 기술통계 분석관점\n",
    "\n",
    "### 1. 중심화경향 \n",
    "  * 수집한 자료 전체를 대표하는 값이 무엇인지 나타내는 통계 (대표값)\n",
    "    + 평균 : 자료를 모두 더해서 전체 자료의 갯수로 나눈 값 (정량적 자료의 대표값)   \n",
    "    + 중앙값 : 자료를 크기 순으로 정렬했을 때, 중앙에 위치하는 값 (순서자료의 대표값)\n",
    "    + 최빈값 : 수집한 데이터 중 그 빈도가 가장 많이 나타나는 데이터 (명목자료의 대표값)     \n",
    "\n",
    "### 2. 분산경향 \n",
    "  * 데이터가 어떻게 분포되어 있는지 설명하는 통계치\n",
    " 범위\n",
    "    + 사분위수\n",
    "    + 분산\n",
    "    + 표준편차"
   ]
  },
  {
   "cell_type": "code",
   "execution_count": null,
   "id": "6963ae7d-3785-472f-bc2c-71b320a8803b",
   "metadata": {},
   "outputs": [],
   "source": [
    "conda install -y pandas"
   ]
  },
  {
   "cell_type": "code",
   "execution_count": null,
   "id": "eed8a66d-5919-4217-b8c7-6bf9713dcbe4",
   "metadata": {},
   "outputs": [],
   "source": [
    "conda install -y numpy"
   ]
  },
  {
   "cell_type": "code",
   "execution_count": null,
   "id": "45f05523-ef3a-439d-bab5-1c0549dfd283",
   "metadata": {},
   "outputs": [],
   "source": [
    "conda install -y scipy"
   ]
  },
  {
   "cell_type": "code",
   "execution_count": 4,
   "id": "712e7aa4-dba1-4def-b687-deea0cc32710",
   "metadata": {},
   "outputs": [],
   "source": [
    "import numpy as np\n",
    "import pandas as pd\n",
    "import scipy as sp"
   ]
  },
  {
   "cell_type": "markdown",
   "id": "f0b93b7b-87b2-4572-a5e9-80078633e24d",
   "metadata": {},
   "source": [
    "# 대표값\n",
    "### **평균 : 중심 척도의 대표적인 통계값**\n",
    "\n",
    "* 평균은 유일하다\n",
    "* 평균은 계산하기 쉽다\n",
    "* 모든 측정값을 반영한다\n",
    "* 단, 평균은 특이값(이상치)에 영향을 받는다\n",
    " ### $ \\bar x = {1 \\over n} \\sum x_i $ : 표본평균"
   ]
  },
  {
   "cell_type": "code",
   "execution_count": 6,
   "id": "2662042b-8870-4643-ac5b-52139a7e7fad",
   "metadata": {},
   "outputs": [
    {
     "name": "stdout",
     "output_type": "stream",
     "text": [
      "5.5 5.5\n"
     ]
    }
   ],
   "source": [
    "nums1 = [1,2,3,4,5,6,7,8,9,10]\n",
    "\n",
    "mean1 = sum(nums1) / len(nums1)\n",
    "mean2 = np.mean(nums1)\n",
    "\n",
    "print(mean1,mean2)"
   ]
  },
  {
   "cell_type": "code",
   "execution_count": 11,
   "id": "3cd13914-3391-4eed-9d8c-b7369928bb17",
   "metadata": {},
   "outputs": [
    {
     "name": "stdout",
     "output_type": "stream",
     "text": [
      "46.03703703703704\n"
     ]
    }
   ],
   "source": [
    "# 조선조왕들의 평균수명 조사\n",
    "\n",
    "kings = [73,62,45,53,38,16,51,28,37,30,56,30,33,56,\n",
    "         66,54,40,33,59,36,82,48,44,22,32,67,52]\n",
    "\n",
    "mean_k = np.mean(kings)\n",
    "\n",
    "print(mean_k)"
   ]
  },
  {
   "cell_type": "code",
   "execution_count": 10,
   "id": "bce53649-c407-4ce6-ab19-de62e5cbe85e",
   "metadata": {},
   "outputs": [
    {
     "name": "stdout",
     "output_type": "stream",
     "text": [
      "20.238095238095237\n"
     ]
    }
   ],
   "source": [
    "# 대학원생의 평균 나이 조사\n",
    "studs = [19,18,19,21,20,24,19,19,20,18,21,22,23,21,19,18,22,24,21,18,19]\n",
    "\n",
    "mean_s = np.mean(studs)\n",
    "\n",
    "print(mean_s)"
   ]
  },
  {
   "cell_type": "markdown",
   "id": "71e0f75b-8e9b-454e-a495-171cd69fab1d",
   "metadata": {},
   "source": [
    "# 중앙값median\n",
    "* 자료를 오름차순으로 나열한 후 가장 가운데 놓인 수\n",
    "* 특이값의 영향을 받는 평균을 보완한 수치\n",
    "* 자료 갯수가 짝수인 경우와 홀수인 경우 계산하는 방법이 다름\n",
    "  + 데이터의 개수 $n$이 홀수라면, $\\frac{(n+1)}{2} $번째 데이터가 중앙값\n",
    "  + 데이터의 개수 $n$이 짝수라면, $\\frac{n}{2}$번째 데이터와 $\\frac{n}{2} + 1$번째 데이터의 평균이 중앙값"
   ]
  },
  {
   "cell_type": "code",
   "execution_count": 21,
   "id": "147430bc-ec44-43fc-901e-a5e8bee2467d",
   "metadata": {},
   "outputs": [
    {
     "name": "stdout",
     "output_type": "stream",
     "text": [
      "5 6\n"
     ]
    }
   ],
   "source": [
    "nums2 = [1,2,3,4,5,6,7,8,9]\n",
    "\n",
    "pos = int((len(nums2)+1) / 2) - 1 # 홀수\n",
    "\n",
    "pos1 = int(len(nums1) / 2  - 1) + 1  # 짝수\n",
    "\n",
    "print(nums2[pos], nums1[pos1])"
   ]
  },
  {
   "cell_type": "code",
   "execution_count": 20,
   "id": "d6b68d5c-04c2-4741-8db0-46b071759d66",
   "metadata": {},
   "outputs": [
    {
     "name": "stdout",
     "output_type": "stream",
     "text": [
      "5.0 5.5\n",
      "45.0 20.0\n"
     ]
    }
   ],
   "source": [
    "# numpy의 median함수 사용\n",
    "\n",
    "print(np.median(nums2),np.median(nums1))\n",
    "\n",
    "print(np.median(kings), np.median(studs))"
   ]
  },
  {
   "cell_type": "code",
   "execution_count": 42,
   "id": "277cd230-c86c-446a-8465-c7c849f7dd62",
   "metadata": {},
   "outputs": [
    {
     "name": "stdout",
     "output_type": "stream",
     "text": [
      "45\n"
     ]
    },
    {
     "data": {
      "text/plain": [
       "45.0"
      ]
     },
     "execution_count": 42,
     "metadata": {},
     "output_type": "execute_result"
    }
   ],
   "source": [
    "# 조선조왕들의 평균수명 조사\n",
    "# 단, 정렬시 sorted(대상) 함수 사용!\n",
    "kings = [73,62,45,53,38,16,51,28,37,30,56,30,33,56,\n",
    "         66,54,40,33,59,36,82,48,44,22,32,67,52]\n",
    "\n",
    "kings_s = sorted(kings)\n",
    "\n",
    "pos_k = int((len(kings_s)+1) / 2) - 1\n",
    "\n",
    "print(kings_s[pos_k])\n",
    "np.median(kings)"
   ]
  },
  {
   "cell_type": "code",
   "execution_count": 44,
   "id": "0c602db4-dac6-40fa-808b-3c96c96c32ff",
   "metadata": {},
   "outputs": [
    {
     "name": "stdout",
     "output_type": "stream",
     "text": [
      "20\n"
     ]
    },
    {
     "data": {
      "text/plain": [
       "20.0"
      ]
     },
     "execution_count": 44,
     "metadata": {},
     "output_type": "execute_result"
    }
   ],
   "source": [
    "# 대학원생의 평균 나이 조사\n",
    "# 단, 정렬시 sorted(대상) 함수 사용!\n",
    "studs = [19,18,19,21,20,24,19,19,20,18,21,22,23,21,19,18,22,24,21,18,19]\n",
    "\n",
    "studs_s = sorted(studs)\n",
    "\n",
    "pos_s = int((len(studs_s)+1) / 2) - 1\n",
    "\n",
    "print(studs_s[pos_s])\n",
    "np.median(studs)"
   ]
  },
  {
   "cell_type": "markdown",
   "id": "28046dce-6d03-42bd-9ade-476fc58f511c",
   "metadata": {
    "tags": []
   },
   "source": [
    "### 타이타닉 승객 나이의 평균과 중앙값"
   ]
  },
  {
   "cell_type": "code",
   "execution_count": null,
   "id": "d86a8c80-00dd-47d6-b007-659ebd3cad01",
   "metadata": {},
   "outputs": [],
   "source": [
    "# pd.read_csv(대상, 인코딩, 헤더여부, 구분자)\n",
    "titanic = pd.read_csv('data/titanic.csv',)"
   ]
  },
  {
   "cell_type": "markdown",
   "id": "e3f2904f-da9e-4e02-b175-2381e317bae4",
   "metadata": {},
   "source": [
    "### 사원들의 연봉의 평균, 중앙값"
   ]
  },
  {
   "cell_type": "code",
   "execution_count": 49,
   "id": "708112ed-7919-48fe-b401-cf6223ffe7e8",
   "metadata": {},
   "outputs": [
    {
     "data": {
      "text/html": [
       "<div>\n",
       "<style scoped>\n",
       "    .dataframe tbody tr th:only-of-type {\n",
       "        vertical-align: middle;\n",
       "    }\n",
       "\n",
       "    .dataframe tbody tr th {\n",
       "        vertical-align: top;\n",
       "    }\n",
       "\n",
       "    .dataframe thead th {\n",
       "        text-align: right;\n",
       "    }\n",
       "</style>\n",
       "<table border=\"1\" class=\"dataframe\">\n",
       "  <thead>\n",
       "    <tr style=\"text-align: right;\">\n",
       "      <th></th>\n",
       "      <th>EMPLOYEE_ID</th>\n",
       "      <th>FIRST_NAME</th>\n",
       "      <th>LAST_NAME</th>\n",
       "      <th>EMAIL</th>\n",
       "      <th>PHONE_NUMBER</th>\n",
       "      <th>HIRE_DATE</th>\n",
       "      <th>JOB_ID</th>\n",
       "      <th>SALARY</th>\n",
       "      <th>COMMISSION_PCT</th>\n",
       "      <th>MANAGER_ID</th>\n",
       "      <th>DEPARTMENT_ID</th>\n",
       "    </tr>\n",
       "  </thead>\n",
       "  <tbody>\n",
       "    <tr>\n",
       "      <th>0</th>\n",
       "      <td>100</td>\n",
       "      <td>Steven</td>\n",
       "      <td>King</td>\n",
       "      <td>SKING</td>\n",
       "      <td>515.123.4567</td>\n",
       "      <td>2003-06-17</td>\n",
       "      <td>AD_PRES</td>\n",
       "      <td>24000</td>\n",
       "      <td>NaN</td>\n",
       "      <td>NaN</td>\n",
       "      <td>90.0</td>\n",
       "    </tr>\n",
       "    <tr>\n",
       "      <th>1</th>\n",
       "      <td>101</td>\n",
       "      <td>Neena</td>\n",
       "      <td>Kochhar</td>\n",
       "      <td>NKOCHHAR</td>\n",
       "      <td>515.123.4568</td>\n",
       "      <td>2005-09-21</td>\n",
       "      <td>AD_VP</td>\n",
       "      <td>17000</td>\n",
       "      <td>NaN</td>\n",
       "      <td>100.0</td>\n",
       "      <td>90.0</td>\n",
       "    </tr>\n",
       "    <tr>\n",
       "      <th>2</th>\n",
       "      <td>102</td>\n",
       "      <td>Lex</td>\n",
       "      <td>De Haan</td>\n",
       "      <td>LDEHAAN</td>\n",
       "      <td>515.123.4569</td>\n",
       "      <td>2001-01-13</td>\n",
       "      <td>AD_VP</td>\n",
       "      <td>17000</td>\n",
       "      <td>NaN</td>\n",
       "      <td>100.0</td>\n",
       "      <td>90.0</td>\n",
       "    </tr>\n",
       "    <tr>\n",
       "      <th>3</th>\n",
       "      <td>103</td>\n",
       "      <td>Alexander</td>\n",
       "      <td>Hunold</td>\n",
       "      <td>AHUNOLD</td>\n",
       "      <td>590.423.4567</td>\n",
       "      <td>2006-01-03</td>\n",
       "      <td>IT_PROG</td>\n",
       "      <td>9000</td>\n",
       "      <td>NaN</td>\n",
       "      <td>102.0</td>\n",
       "      <td>60.0</td>\n",
       "    </tr>\n",
       "    <tr>\n",
       "      <th>4</th>\n",
       "      <td>104</td>\n",
       "      <td>Bruce</td>\n",
       "      <td>Ernst</td>\n",
       "      <td>BERNST</td>\n",
       "      <td>590.423.4568</td>\n",
       "      <td>2007-05-21</td>\n",
       "      <td>IT_PROG</td>\n",
       "      <td>6000</td>\n",
       "      <td>NaN</td>\n",
       "      <td>103.0</td>\n",
       "      <td>60.0</td>\n",
       "    </tr>\n",
       "  </tbody>\n",
       "</table>\n",
       "</div>"
      ],
      "text/plain": [
       "   EMPLOYEE_ID FIRST_NAME LAST_NAME     EMAIL  PHONE_NUMBER   HIRE_DATE  \\\n",
       "0          100     Steven      King     SKING  515.123.4567  2003-06-17   \n",
       "1          101      Neena   Kochhar  NKOCHHAR  515.123.4568  2005-09-21   \n",
       "2          102        Lex   De Haan   LDEHAAN  515.123.4569  2001-01-13   \n",
       "3          103  Alexander    Hunold   AHUNOLD  590.423.4567  2006-01-03   \n",
       "4          104      Bruce     Ernst    BERNST  590.423.4568  2007-05-21   \n",
       "\n",
       "    JOB_ID  SALARY  COMMISSION_PCT  MANAGER_ID  DEPARTMENT_ID  \n",
       "0  AD_PRES   24000             NaN         NaN           90.0  \n",
       "1    AD_VP   17000             NaN       100.0           90.0  \n",
       "2    AD_VP   17000             NaN       100.0           90.0  \n",
       "3  IT_PROG    9000             NaN       102.0           60.0  \n",
       "4  IT_PROG    6000             NaN       103.0           60.0  "
      ]
     },
     "execution_count": 49,
     "metadata": {},
     "output_type": "execute_result"
    }
   ],
   "source": [
    "# pd.read_csv(대상, 인코딩, 헤더여부, 구분자)\n",
    "emp = pd.read_csv('data/EMPLOYEES.csv')\n",
    "emp.head()"
   ]
  },
  {
   "cell_type": "code",
   "execution_count": 62,
   "id": "87dd2a26-8470-4b5b-b65d-726994fd02a4",
   "metadata": {},
   "outputs": [
    {
     "name": "stdout",
     "output_type": "stream",
     "text": [
      "6200\n",
      "6200.0\n",
      "6461.83 6461.83\n"
     ]
    }
   ],
   "source": [
    "# pandas 객체에서 특정 컬럼을 지정하려면 : 객체명.컬럼명, 객체명[컬럼명]\n",
    "emp_m = sorted(emp.SALARY)\n",
    "\n",
    "pos = int((len(emp_m)+1)/2)-1\n",
    "\n",
    "print(emp_m[pos])\n",
    "print(np.median(emp.SALARY)) # 중앙값\n",
    "\n",
    "#-----------------------------\n",
    "emp_sum = sum(emp.SALARY) / len(emp.SALARY)\n",
    "emp_sum_np = np.round(np.mean(emp.SALARY),2)  # 평균값\n",
    "\n",
    "print(np.round(emp_sum,2),emp_sum_np)"
   ]
  },
  {
   "cell_type": "code",
   "execution_count": null,
   "id": "44cacf80-47b7-423e-b8a3-66385c351503",
   "metadata": {},
   "outputs": [],
   "source": []
  }
 ],
 "metadata": {
  "kernelspec": {
   "display_name": "Python 3",
   "language": "python",
   "name": "python3"
  },
  "language_info": {
   "codemirror_mode": {
    "name": "ipython",
    "version": 3
   },
   "file_extension": ".py",
   "mimetype": "text/x-python",
   "name": "python",
   "nbconvert_exporter": "python",
   "pygments_lexer": "ipython3",
   "version": "3.9.12"
  }
 },
 "nbformat": 4,
 "nbformat_minor": 5
}
