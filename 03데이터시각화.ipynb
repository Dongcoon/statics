{
 "cells": [
  {
   "cell_type": "code",
   "execution_count": 2,
   "id": "d47a1bc3-03f3-496c-9a80-d2e342b98c21",
   "metadata": {},
   "outputs": [
    {
     "name": "stdout",
     "output_type": "stream",
     "text": [
      "Collecting package metadata (current_repodata.json): done\n",
      "Solving environment: done\n",
      "\n",
      "## Package Plan ##\n",
      "\n",
      "  environment location: /opt/miniconda3\n",
      "\n",
      "  added / updated specs:\n",
      "    - matplotlib\n",
      "\n",
      "\n",
      "The following packages will be downloaded:\n",
      "\n",
      "    package                    |            build\n",
      "    ---------------------------|-----------------\n",
      "    brotli-1.0.9               |       h5eee18b_7          18 KB\n",
      "    brotli-bin-1.0.9           |       h5eee18b_7          19 KB\n",
      "    cycler-0.11.0              |     pyhd3eb1b0_0          12 KB\n",
      "    fonttools-4.25.0           |     pyhd3eb1b0_0         632 KB\n",
      "    freetype-2.12.1            |       h4a9f257_0         626 KB\n",
      "    kiwisolver-1.4.2           |   py39h295c915_0          83 KB\n",
      "    lcms2-2.12                 |       h3be6417_0         312 KB\n",
      "    libbrotlicommon-1.0.9      |       h5eee18b_7          70 KB\n",
      "    libbrotlidec-1.0.9         |       h5eee18b_7          31 KB\n",
      "    libbrotlienc-1.0.9         |       h5eee18b_7         264 KB\n",
      "    matplotlib-3.5.3           |   py39h06a4308_0           7 KB\n",
      "    matplotlib-base-3.5.3      |   py39hf590b9c_0         6.4 MB\n",
      "    munkres-1.1.4              |             py_0          13 KB\n",
      "    pillow-9.2.0               |   py39hace64e9_1         670 KB\n",
      "    ------------------------------------------------------------\n",
      "                                           Total:         9.1 MB\n",
      "\n",
      "The following NEW packages will be INSTALLED:\n",
      "\n",
      "  brotli             pkgs/main/linux-64::brotli-1.0.9-h5eee18b_7 None\n",
      "  brotli-bin         pkgs/main/linux-64::brotli-bin-1.0.9-h5eee18b_7 None\n",
      "  cycler             pkgs/main/noarch::cycler-0.11.0-pyhd3eb1b0_0 None\n",
      "  fonttools          pkgs/main/noarch::fonttools-4.25.0-pyhd3eb1b0_0 None\n",
      "  kiwisolver         pkgs/main/linux-64::kiwisolver-1.4.2-py39h295c915_0 None\n",
      "  lcms2              pkgs/main/linux-64::lcms2-2.12-h3be6417_0 None\n",
      "  libbrotlicommon    pkgs/main/linux-64::libbrotlicommon-1.0.9-h5eee18b_7 None\n",
      "  libbrotlidec       pkgs/main/linux-64::libbrotlidec-1.0.9-h5eee18b_7 None\n",
      "  libbrotlienc       pkgs/main/linux-64::libbrotlienc-1.0.9-h5eee18b_7 None\n",
      "  matplotlib         pkgs/main/linux-64::matplotlib-3.5.3-py39h06a4308_0 None\n",
      "  matplotlib-base    pkgs/main/linux-64::matplotlib-base-3.5.3-py39hf590b9c_0 None\n",
      "  munkres            pkgs/main/noarch::munkres-1.1.4-py_0 None\n",
      "  pillow             pkgs/main/linux-64::pillow-9.2.0-py39hace64e9_1 None\n",
      "\n",
      "The following packages will be UPDATED:\n",
      "\n",
      "  freetype           conda-forge::freetype-2.10.4-h0708190~ --> pkgs/main::freetype-2.12.1-h4a9f257_0 None\n",
      "\n",
      "\n",
      "\n",
      "Downloading and Extracting Packages\n",
      "freetype-2.12.1      | 626 KB    | ##################################### | 100% \n",
      "libbrotlienc-1.0.9   | 264 KB    | ##################################### | 100% \n",
      "munkres-1.1.4        | 13 KB     | ##################################### | 100% \n",
      "libbrotlidec-1.0.9   | 31 KB     | ##################################### | 100% \n",
      "lcms2-2.12           | 312 KB    | ##################################### | 100% \n",
      "matplotlib-3.5.3     | 7 KB      | ##################################### | 100% \n",
      "fonttools-4.25.0     | 632 KB    | ##################################### | 100% \n",
      "matplotlib-base-3.5. | 6.4 MB    | ##################################### | 100% \n",
      "brotli-1.0.9         | 18 KB     | ##################################### | 100% \n",
      "kiwisolver-1.4.2     | 83 KB     | ##################################### | 100% \n",
      "libbrotlicommon-1.0. | 70 KB     | ##################################### | 100% \n",
      "pillow-9.2.0         | 670 KB    | ##################################### | 100% \n",
      "cycler-0.11.0        | 12 KB     | ##################################### | 100% \n",
      "brotli-bin-1.0.9     | 19 KB     | ##################################### | 100% \n",
      "Preparing transaction: done\n",
      "Verifying transaction: done\n",
      "Executing transaction: done\n",
      "Retrieving notices: ...working... done\n",
      "\n",
      "Note: you may need to restart the kernel to use updated packages.\n"
     ]
    }
   ],
   "source": [
    "conda install -y matplotlib"
   ]
  },
  {
   "cell_type": "code",
   "execution_count": 3,
   "id": "6650a3d8-27d9-47d1-9d75-0fbc83b8435c",
   "metadata": {},
   "outputs": [],
   "source": [
    "import numpy as np\n",
    "import pandas as pd\n",
    "import matplotlib.pyplot as plt"
   ]
  },
  {
   "cell_type": "markdown",
   "id": "89c23dc3-8709-4be2-9980-1dc5f3c0bd7c",
   "metadata": {},
   "source": [
    "# 도수분포표\n",
    "* 단순한 숫자의 나열인 데이터 자체로는 어떠한 정보도 알 수 없음\n",
    "  + 80명의 학생의 키를 정리한 데이터에서 무엇을 알수 있을까?\n",
    "\n",
    "* 각 학생들의 키는 모두 같지않고 제각각의 숫자로 나타남\n",
    "* 다양한 수치로 나타나는 것을 **`분포한다`** 라고 함\n",
    "* 분포가 생기는 이유는 어떤 **불확실성(!)** 이 있기 때문\n",
    "* 이러한 불확실성이 제각각인 키의 수치를 발생시킨다고 여김\n",
    "  + 하지만, 이러한 수치들에도 **고유한 특징** 이나 **반복(패턴)** 되는 것이 존재\n",
    "  + 분포의 특성을 도출하기 위해 **`(확률에 근거한)통계`** 라는 도구 사용\n",
    "\n",
    "* 분포화된 자료를 시각화하려면 히스토그램을 그려야 하는데\n",
    "  + 먼저,**도수분포표** 를 작성해야 함\n",
    "    - 최대/최소값\n",
    "    - 계급class 설정 - **구간**\n",
    "    - 계급값 설정\n",
    "    - 계급내 데이터수 파악 - **빈도/도수frequency**\n",
    "    - 각 계급 빈도의 상대비율 - **상대도수**\n",
    "    - 각 계급의 누적합 - **누적도수**\n",
    "* 히스토그램을 통해 **데이터의 분포(어떻게 모여 있는지)** 파악 가능"
   ]
  },
  {
   "cell_type": "markdown",
   "id": "379f1efa-14dd-483d-b18d-a84d934481b8",
   "metadata": {},
   "source": [
    "# 연속형 데이터 시각화 \n",
    "+ 히스토그램"
   ]
  },
  {
   "cell_type": "code",
   "execution_count": null,
   "id": "05141af5-033f-4e09-8f8f-0830b3d2d23c",
   "metadata": {},
   "outputs": [],
   "source": [
    "studs = pd.read_csv('data/height.csv')\n",
    "studs.head()"
   ]
  },
  {
   "cell_type": "code",
   "execution_count": 18,
   "id": "b4a2ab98-2266-45c5-8589-402a4cfec599",
   "metadata": {},
   "outputs": [
    {
     "name": "stdout",
     "output_type": "stream",
     "text": [
      "169 143 26\n"
     ]
    }
   ],
   "source": [
    "# 그래프의 x축 범위 지정\n",
    "max = studs.height.max()\n",
    "min = studs.height.min()\n",
    "\n",
    "print(max,min,max-min)\n"
   ]
  },
  {
   "cell_type": "code",
   "execution_count": 20,
   "id": "34369ec8-ac11-4d77-a1ab-b2ff3a6132d9",
   "metadata": {},
   "outputs": [
    {
     "name": "stdout",
     "output_type": "stream",
     "text": [
      "170 140\n"
     ]
    }
   ],
   "source": [
    "# 구간 범위 설정 : 140 ~ 170\n",
    "# x축 최소값 : 143 -> 140\n",
    "# y축 최대값 : 169 -> 170\n",
    "bmax = int(max / 10 ) * 10 + 10\n",
    "bmin = int(min / 10 )* 10 \n",
    "    \n",
    "print(bmax,bmin)"
   ]
  },
  {
   "cell_type": "code",
   "execution_count": 23,
   "id": "5135d69a-67f4-4028-a08f-04e5e288572f",
   "metadata": {},
   "outputs": [
    {
     "name": "stdout",
     "output_type": "stream",
     "text": [
      "[140 145 150 155 160 165 170]\n"
     ]
    }
   ],
   "source": [
    "# 구간 설정\n",
    "# 구간은 numpy의 arrange 함수 사용\n",
    "# arrange(최소값, 최대값+1, 구간간격)\n",
    "bins = np.arange(bmin,bmax+1,5)\n",
    "\n",
    "print(bins)"
   ]
  },
  {
   "cell_type": "code",
   "execution_count": 26,
   "id": "43289d6b-d48c-4bad-8fb7-8a9e38881bba",
   "metadata": {},
   "outputs": [
    {
     "name": "stdout",
     "output_type": "stream",
     "text": [
      "[ 1  4 17 27 23  8]\n"
     ]
    }
   ],
   "source": [
    "# 구간내 빈도\n",
    "# 빈도는 numpy의 histogram 함수 사용\n",
    "hist, bins = np.histogram(studs.height,bins)\n",
    "\n",
    "print(hist)"
   ]
  },
  {
   "cell_type": "code",
   "execution_count": 40,
   "id": "53720914-8311-46a2-be91-260d6e429c7a",
   "metadata": {},
   "outputs": [
    {
     "name": "stdout",
     "output_type": "stream",
     "text": [
      "2.5 [142.5 147.5 152.5 157.5 162.5 167.5]\n"
     ]
    }
   ],
   "source": [
    "# 계급값 ~ 각 구간을 대표하는 값, 구간의 중앙값\n",
    "mid = (bins[1]-bins[0])/2\n",
    "mdbins = bins[:len(bins)-1] + mid\n",
    "print(mid, mdbins)"
   ]
  },
  {
   "cell_type": "code",
   "execution_count": 31,
   "id": "cc7e3c61-c908-432e-a823-d5d1d5ee59f9",
   "metadata": {},
   "outputs": [
    {
     "name": "stdout",
     "output_type": "stream",
     "text": [
      "80 [0.0125 0.05   0.2125 0.3375 0.2875 0.1   ] 1.0\n"
     ]
    }
   ],
   "source": [
    "# 상대도수 계산\n",
    "# 구간별 빈도수를 전체 빈도수 총합으로 나눈것\n",
    "total = len(studs.height)\n",
    "relfrq = hist / total\n",
    "print(total, relfrq, sum(relfrq))"
   ]
  },
  {
   "cell_type": "code",
   "execution_count": 38,
   "id": "b37d288d-6217-4c94-b268-aa3a631c3024",
   "metadata": {},
   "outputs": [
    {
     "name": "stdout",
     "output_type": "stream",
     "text": [
      "[ 1  4 17 27 23  8] [ 1  5 22 49 72 80]\n"
     ]
    }
   ],
   "source": [
    "# 누적도수 계산\n",
    "# 각 구간별 빈도의 누적합\n",
    "# [1,2,3,4,5] => 누적합 [1,3,6,10,15]\n",
    "# 누적합은 numpy의 cumsum 함수 사용\n",
    "csfrq = np.cumsum(hist)\n",
    "\n",
    "print(hist,csfrq)"
   ]
  },
  {
   "cell_type": "code",
   "execution_count": 42,
   "id": "bf2cc6d3-fab9-4e2f-8a8f-a1220a289539",
   "metadata": {},
   "outputs": [
    {
     "data": {
      "text/html": [
       "<div>\n",
       "<style scoped>\n",
       "    .dataframe tbody tr th:only-of-type {\n",
       "        vertical-align: middle;\n",
       "    }\n",
       "\n",
       "    .dataframe tbody tr th {\n",
       "        vertical-align: top;\n",
       "    }\n",
       "\n",
       "    .dataframe thead th {\n",
       "        text-align: right;\n",
       "    }\n",
       "</style>\n",
       "<table border=\"1\" class=\"dataframe\">\n",
       "  <thead>\n",
       "    <tr style=\"text-align: right;\">\n",
       "      <th></th>\n",
       "      <th>frq</th>\n",
       "      <th>relfrq</th>\n",
       "      <th>csfrq</th>\n",
       "      <th>mdbins</th>\n",
       "    </tr>\n",
       "    <tr>\n",
       "      <th>class</th>\n",
       "      <th></th>\n",
       "      <th></th>\n",
       "      <th></th>\n",
       "      <th></th>\n",
       "    </tr>\n",
       "  </thead>\n",
       "  <tbody>\n",
       "    <tr>\n",
       "      <th>140 ~ 145</th>\n",
       "      <td>1</td>\n",
       "      <td>0.0125</td>\n",
       "      <td>1</td>\n",
       "      <td>142.5</td>\n",
       "    </tr>\n",
       "    <tr>\n",
       "      <th>145 ~ 150</th>\n",
       "      <td>4</td>\n",
       "      <td>0.0500</td>\n",
       "      <td>5</td>\n",
       "      <td>147.5</td>\n",
       "    </tr>\n",
       "    <tr>\n",
       "      <th>150 ~ 155</th>\n",
       "      <td>17</td>\n",
       "      <td>0.2125</td>\n",
       "      <td>22</td>\n",
       "      <td>152.5</td>\n",
       "    </tr>\n",
       "    <tr>\n",
       "      <th>155 ~ 160</th>\n",
       "      <td>27</td>\n",
       "      <td>0.3375</td>\n",
       "      <td>49</td>\n",
       "      <td>157.5</td>\n",
       "    </tr>\n",
       "    <tr>\n",
       "      <th>160 ~ 165</th>\n",
       "      <td>23</td>\n",
       "      <td>0.2875</td>\n",
       "      <td>72</td>\n",
       "      <td>162.5</td>\n",
       "    </tr>\n",
       "    <tr>\n",
       "      <th>165 ~ 170</th>\n",
       "      <td>8</td>\n",
       "      <td>0.1000</td>\n",
       "      <td>80</td>\n",
       "      <td>167.5</td>\n",
       "    </tr>\n",
       "  </tbody>\n",
       "</table>\n",
       "</div>"
      ],
      "text/plain": [
       "           frq  relfrq  csfrq  mdbins\n",
       "class                                \n",
       "140 ~ 145    1  0.0125      1   142.5\n",
       "145 ~ 150    4  0.0500      5   147.5\n",
       "150 ~ 155   17  0.2125     22   152.5\n",
       "155 ~ 160   27  0.3375     49   157.5\n",
       "160 ~ 165   23  0.2875     72   162.5\n",
       "165 ~ 170    8  0.1000     80   167.5"
      ]
     },
     "execution_count": 42,
     "metadata": {},
     "output_type": "execute_result"
    }
   ],
   "source": [
    "# 지금까지 계산한 결과 한눈에 보기\n",
    "# 새로운 컬럼 추가 : 객체명['새로운컬럼명'] = 리스트\n",
    "frqclass = [f'{i} ~ {i+5}' for i in np.arange(bmin,bmax,5)]\n",
    "\n",
    "stdhist = pd.DataFrame({'frq':hist},index = pd.Index(frqclass,name='class'))\n",
    "stdhist['relfrq'] = relfrq\n",
    "stdhist['csfrq'] = csfrq\n",
    "stdhist['mdbins'] = mdbins\n",
    "\n",
    "stdhist"
   ]
  },
  {
   "cell_type": "markdown",
   "id": "08d0cbd5-a6b9-4c47-a218-87f33c98d950",
   "metadata": {},
   "source": [
    "## 히스토그램 시각화\n",
    "+ hist(데이터, 구간, 옵션)"
   ]
  },
  {
   "cell_type": "code",
   "execution_count": 47,
   "id": "910005fa-bb07-4fbc-aadd-f0a975daee57",
   "metadata": {},
   "outputs": [
    {
     "data": {
      "image/png": "[encoded data removed]",
      "text/plain": [
       "<Figure size 432x288 with 1 Axes>"
      ]
     },
     "metadata": {
      "needs_background": "light"
     },
     "output_type": "display_data"
    }
   ],
   "source": [
    "plt.hist(studs.height, bins, color='red')\n",
    "plt.grid()"
   ]
  },
  {
   "cell_type": "markdown",
   "id": "a148302f-48cf-45ee-9ec4-2346e5ce3f32",
   "metadata": {},
   "source": [
    "## 도수분포다각형\n",
    "+ plot(x축값, y축값, 옵션)"
   ]
  },
  {
   "cell_type": "code",
   "execution_count": 46,
   "id": "3dc6a5c8-4676-4dd6-b996-eadd25877bd0",
   "metadata": {},
   "outputs": [
    {
     "data": {
      "image/png": "[encoded data removed]",
      "text/plain": [
       "<Figure size 432x288 with 1 Axes>"
      ]
     },
     "metadata": {
      "needs_background": "light"
     },
     "output_type": "display_data"
    }
   ],
   "source": [
    "plt.plot(mdbins,hist)\n",
    "plt.grid()"
   ]
  },
  {
   "cell_type": "markdown",
   "id": "cb2feea7-7f10-44ad-92cb-7d2fa4cef946",
   "metadata": {},
   "source": [
    "## pandas로 확률밀도 추정 그래프 그리기\n",
    "+ 객체명.plot(kind='kde')"
   ]
  },
  {
   "cell_type": "code",
   "execution_count": 50,
   "id": "313d367a-b519-4915-afa0-c99fd41c860a",
   "metadata": {},
   "outputs": [
    {
     "data": {
      "image/png": "[encoded data removed]",
      "text/plain": [
       "<Figure size 432x288 with 1 Axes>"
      ]
     },
     "metadata": {
      "needs_background": "light"
     },
     "output_type": "display_data"
    }
   ],
   "source": [
    "studs.height.plot(kind='kde')\n",
    "plt.grid()"
   ]
  },
  {
   "cell_type": "code",
   "execution_count": 51,
   "id": "469805b8-7a37-4a82-8595-9885cf4d1292",
   "metadata": {},
   "outputs": [
    {
     "name": "stdout",
     "output_type": "stream",
     "text": [
      "Collecting package metadata (current_repodata.json): done\n",
      "Solving environment: done\n",
      "\n",
      "## Package Plan ##\n",
      "\n",
      "  environment location: /opt/miniconda3\n",
      "\n",
      "  added / updated specs:\n",
      "    - seaborn\n",
      "\n",
      "\n",
      "The following packages will be downloaded:\n",
      "\n",
      "    package                    |            build\n",
      "    ---------------------------|-----------------\n",
      "    seaborn-0.12.0             |   py39h06a4308_0         428 KB\n",
      "    ------------------------------------------------------------\n",
      "                                           Total:         428 KB\n",
      "\n",
      "The following NEW packages will be INSTALLED:\n",
      "\n",
      "  seaborn            pkgs/main/linux-64::seaborn-0.12.0-py39h06a4308_0 None\n",
      "\n",
      "\n",
      "\n",
      "Downloading and Extracting Packages\n",
      "seaborn-0.12.0       | 428 KB    | ##################################### | 100% \n",
      "Preparing transaction: done\n",
      "Verifying transaction: done\n",
      "Executing transaction: done\n",
      "Retrieving notices: ...working... done\n",
      "\n",
      "Note: you may need to restart the kernel to use updated packages.\n"
     ]
    }
   ],
   "source": [
    "conda install -y seaborn"
   ]
  },
  {
   "cell_type": "code",
   "execution_count": 52,
   "id": "b0d33be1-18af-43fe-ba7f-3489241e1bee",
   "metadata": {},
   "outputs": [],
   "source": [
    "import seaborn as sns"
   ]
  },
  {
   "cell_type": "markdown",
   "id": "c4e8c55a-65aa-45d3-b219-e84415c47d52",
   "metadata": {},
   "source": [
    "## seaborn 확률밀도 추정 그래프 그리기\n",
    "+ histplot(대상, kde=True)"
   ]
  },
  {
   "cell_type": "code",
   "execution_count": 55,
   "id": "d2b1d9d7-c684-410b-b656-f8e6a942a57f",
   "metadata": {},
   "outputs": [
    {
     "data": {
      "image/png": "[encoded data removed]",
      "text/plain": [
       "<Figure size 432x288 with 1 Axes>"
      ]
     },
     "metadata": {
      "needs_background": "light"
     },
     "output_type": "display_data"
    }
   ],
   "source": [
    "sns.histplot(studs.height,kde=True)\n",
    "plt.grid()"
   ]
  },
  {
   "cell_type": "markdown",
   "id": "84e274db-06b2-467d-9aa6-be459a110d33",
   "metadata": {},
   "source": [
    "# 확률밀도 추정KDE\n",
    "* kernal density estimation\n",
    "* 관측된 데이터들의 분포로부터 원래 변수의 **확률**분포특성을 추정\n",
    "* 즉, 해당 변수에서 관측된 몇가지 데이터로부터 변수가 가질수 있는 모든 값들에 대한 밀도(확률)를 추정하는 것\n",
    "  + 예) 수능을 위해 모의고사를 실시함\n",
    "  + 모의고사를 통해 실제 수능시험 성적을 예측할 수 있음\n",
    "  + 몇 회의 모의고사 성적에 대한 분포를 토대로\n",
    "  + 실제로 받을 수능시험 성적에 대한 확률을 유추해 볼수 있음\n",
    "* seaborn의 histplot이나 distplot으로 쉽게 그릴수 있음  "
   ]
  },
  {
   "cell_type": "markdown",
   "id": "8e00c25b-7f3b-43e3-9513-b7b78b41d133",
   "metadata": {},
   "source": [
    "### 조선조 왕들 수명의 도수분포표 작성"
   ]
  },
  {
   "cell_type": "code",
   "execution_count": 75,
   "id": "ccd42a86-0b04-43f4-b6d1-c318ef76cb76",
   "metadata": {},
   "outputs": [],
   "source": [
    "kings = [73,62,45,53,38,16,51,28,37,30,56,30,33,56,\n",
    "         66,54,40,33,59,36,82,48,44,22,32,67,52]"
   ]
  },
  {
   "cell_type": "code",
   "execution_count": 76,
   "id": "bfc7e523-cb0b-45b2-899f-9038ab191288",
   "metadata": {},
   "outputs": [
    {
     "data": {
      "image/png": "[encoded data removed]",
      "text/plain": [
       "<Figure size 432x288 with 1 Axes>"
      ]
     },
     "metadata": {
      "needs_background": "light"
     },
     "output_type": "display_data"
    }
   ],
   "source": [
    "kmax = np.max(kings)\n",
    "kmin = np.min(kings)\n",
    "\n",
    "bins = np.arange(kmin,kmax+1,5)\n",
    "plt.hist(kings, bins, color='red')\n",
    "plt.grid()"
   ]
  },
  {
   "cell_type": "code",
   "execution_count": 77,
   "id": "c7b11fa3-b60b-4863-9877-9ac3c59dfaf8",
   "metadata": {},
   "outputs": [
    {
     "data": {
      "image/png": "[encoded data removed]",
      "text/plain": [
       "<Figure size 432x288 with 1 Axes>"
      ]
     },
     "metadata": {
      "needs_background": "light"
     },
     "output_type": "display_data"
    }
   ],
   "source": [
    "hist, bins = np.histogram(kings,bins)\n",
    "mid = (bins[1]-bins[0])/2\n",
    "mdbins = bins[:len(bins)-1] + mid\n",
    "plt.plot(mdbins,hist)\n",
    "plt.grid()"
   ]
  },
  {
   "cell_type": "code",
   "execution_count": 78,
   "id": "bbf42a7b-0dd2-4a7c-908f-866f50023244",
   "metadata": {},
   "outputs": [
    {
     "data": {
      "image/png": "[encoded data removed]",
      "text/plain": [
       "<Figure size 432x288 with 1 Axes>"
      ]
     },
     "metadata": {
      "needs_background": "light"
     },
     "output_type": "display_data"
    }
   ],
   "source": [
    "sns.histplot(kings,kde=True)\n",
    "plt.grid()"
   ]
  },
  {
   "cell_type": "markdown",
   "id": "200d6457-8619-4544-a5ae-3965963a86bd",
   "metadata": {},
   "source": [
    "### 청소년 핸드폰 사용시간에 대한 시각화 (1주일, 시간)\n",
    "+ 도수분포표 작성\n",
    "+ 히스토그램, KDE 작성"
   ]
  },
  {
   "cell_type": "code",
   "execution_count": 57,
   "id": "29e34ff7-e0df-4251-a8fb-787347f9a920",
   "metadata": {
    "tags": []
   },
   "outputs": [],
   "source": [
    "phone = [10,37,22,32,18,15,15,18,22,15,20,25,38,28,\n",
    "         25,30,20,22,18,22,22,12,22,26,22,32,22,23,\n",
    "         20,23,23,20,25,51,20,25,26,22,26,28,28,20,\n",
    "         23,30,12,22,35,11,20,25]"
   ]
  },
  {
   "cell_type": "code",
   "execution_count": 84,
   "id": "1fdbebd0-ed93-4df0-966a-6c965578ac32",
   "metadata": {},
   "outputs": [
    {
     "data": {
      "image/png": "[encoded data removed]",
      "text/plain": [
       "<Figure size 432x288 with 1 Axes>"
      ]
     },
     "metadata": {
      "needs_background": "light"
     },
     "output_type": "display_data"
    }
   ],
   "source": [
    "pmax = np.max(phone)\n",
    "pmin = np.min(phone)\n",
    "\n",
    "bins = np.arange(pmin,pmax+1,5)\n",
    "plt.hist(phone,bins,color='blue')\n",
    "plt.grid()"
   ]
  },
  {
   "cell_type": "code",
   "execution_count": 88,
   "id": "0f7e4e37-dc7c-437b-958d-bb171c9138de",
   "metadata": {},
   "outputs": [
    {
     "data": {
      "image/png": "[encoded data removed]",
      "text/plain": [
       "<Figure size 432x288 with 1 Axes>"
      ]
     },
     "metadata": {
      "needs_background": "light"
     },
     "output_type": "display_data"
    }
   ],
   "source": [
    "hist,bins = np.histogram(phone,bins)\n",
    "mid = (bins[1]-bins[0])/2\n",
    "mdbins = bins[:len(bins)-1]+mid\n",
    "plt.plot(mdbins,hist)\n",
    "plt.grid()"
   ]
  },
  {
   "cell_type": "code",
   "execution_count": 92,
   "id": "92ff8efa-cc08-49f2-9d77-a9718bbf35b9",
   "metadata": {},
   "outputs": [
    {
     "data": {
      "image/png": "[encoded data removed]",
      "text/plain": [
       "<Figure size 432x288 with 1 Axes>"
      ]
     },
     "metadata": {
      "needs_background": "light"
     },
     "output_type": "display_data"
    }
   ],
   "source": [
    "sns.histplot(phone,kde=True)\n",
    "plt.grid()"
   ]
  },
  {
   "cell_type": "code",
   "execution_count": 94,
   "id": "15b8a215-c8e4-4136-9f70-6e05c4f8604d",
   "metadata": {},
   "outputs": [
    {
     "data": {
      "image/png": "[encoded data removed]",
      "text/plain": [
       "<Figure size 360x360 with 1 Axes>"
      ]
     },
     "metadata": {
      "needs_background": "light"
     },
     "output_type": "display_data"
    }
   ],
   "source": [
    "sns.displot(phone,kde=True)\n",
    "plt.grid()"
   ]
  },
  {
   "cell_type": "code",
   "execution_count": null,
   "id": "87991545-0b1c-4163-a70e-7ca3a669fe51",
   "metadata": {},
   "outputs": [],
   "source": []
  }
 ],
 "metadata": {
  "kernelspec": {
   "display_name": "Python 3",
   "language": "python",
   "name": "python3"
  },
  "language_info": {
   "codemirror_mode": {
    "name": "ipython",
    "version": 3
   },
   "file_extension": ".py",
   "mimetype": "text/x-python",
   "name": "python",
   "nbconvert_exporter": "python",
   "pygments_lexer": "ipython3",
   "version": "3.9.12"
  }
 },
 "nbformat": 4,
 "nbformat_minor": 5
}
