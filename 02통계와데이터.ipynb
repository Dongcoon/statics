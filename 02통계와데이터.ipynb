{
 "cells": [
  {
   "cell_type": "code",
   "execution_count": 1,
   "id": "be08aed7-5b2e-4053-ba33-d4e1c09a053a",
   "metadata": {},
   "outputs": [],
   "source": [
    "import numpy as np\n",
    "import pandas as pd\n",
    "import scipy.stats as sp"
   ]
  },
  {
   "cell_type": "markdown",
   "id": "abeafda4-3064-4a4b-b6cc-052a05fed815",
   "metadata": {},
   "source": [
    "# 변동성 이해하기\n",
    "* 값들이 서로 얼마나 다른지 여부 파악\n"
   ]
  },
  {
   "cell_type": "code",
   "execution_count": 2,
   "id": "69147c37-77f6-4713-a093-18010c3d8aef",
   "metadata": {},
   "outputs": [
    {
     "data": {
      "text/plain": [
       "a    4.0\n",
       "b    4.0\n",
       "c    4.0\n",
       "dtype: float64"
      ]
     },
     "execution_count": 2,
     "metadata": {},
     "output_type": "execute_result"
    }
   ],
   "source": [
    "nums1 = [7,6,3,3,1]\n",
    "nums2 = [3,4,4,5,4]\n",
    "nums3 = [4,4,4,4,4]\n",
    "\n",
    "df = pd.DataFrame({'a':nums1,'b':nums2,'c':nums3})\n",
    "df.mean()"
   ]
  },
  {
   "cell_type": "markdown",
   "id": "8dc36709-f141-47c9-a4d7-b7e634145464",
   "metadata": {},
   "source": [
    "# 분산경향 \n",
    "* 기술통계의 또 다른 관점 - 분산, 산포\n",
    "* 데이터가 어떻게 분포되어 있는지 설명하는 통계치\n",
    "* 자료의 흩어지거나 밀집되는 정도를 나타내는 척도\n",
    "  * 범위\n",
    "  * 사분위수\n",
    "  * 분산\n",
    "  * 표준편차"
   ]
  },
  {
   "cell_type": "markdown",
   "id": "8c789409-da69-4208-a7f4-7b90963d1654",
   "metadata": {},
   "source": [
    "# 범위\n",
    "* 수집한 자료의 가장 큰 값과 작은 값의 차이\n",
    "* 수집한 자료가 어느정도 흩어져 있는지 살펴볼 수 있는 통계치\n",
    "* 계산하기 쉽다\n",
    "* 특이값에 영향을 많이 받는다\n",
    "* 범위가 동일해도 분산정도는 크게 다를 수 있다\n",
    "> $r = h - l$ <br>\n",
    "> $R = x_{(n)} - x_{(1)}$\n"
   ]
  },
  {
   "cell_type": "code",
   "execution_count": 5,
   "id": "199f688f-1c0b-42ef-97ab-adeeb953d9cc",
   "metadata": {},
   "outputs": [
    {
     "name": "stdout",
     "output_type": "stream",
     "text": [
      "5\n",
      "5\n"
     ]
    }
   ],
   "source": [
    "nums4 = [5,3,2,0,4,0,3,1,1,2]\n",
    "nums4 = sorted(nums4)\n",
    "r1 = nums4[len(nums4)-1] - nums4[0]\n",
    "print(r1)\n",
    "print(max(nums4)-min(nums4))"
   ]
  },
  {
   "cell_type": "code",
   "execution_count": 10,
   "id": "5be98d4a-28fd-4472-bf99-6f5252bea463",
   "metadata": {},
   "outputs": [
    {
     "data": {
      "text/plain": [
       "(82, 16, 66)"
      ]
     },
     "execution_count": 10,
     "metadata": {},
     "output_type": "execute_result"
    }
   ],
   "source": [
    "# 조선조 왕들 수명의 범위 조사\n",
    "kings = [73,62,45,53,38,16,51,28,37,30,56,30,33,56,\n",
    "         66,54,40,33,59,36,82,48,44,22,32,67,52]\n",
    "\n",
    "rk = max(kings)-min(kings)\n",
    "max(kings),min(kings),rk"
   ]
  },
  {
   "cell_type": "code",
   "execution_count": 9,
   "id": "dfe4de3a-ef61-4460-8bca-b3a5fabcef5d",
   "metadata": {},
   "outputs": [
    {
     "data": {
      "text/plain": [
       "(24, 18, 6)"
      ]
     },
     "execution_count": 9,
     "metadata": {},
     "output_type": "execute_result"
    }
   ],
   "source": [
    "# 대학원생들 나이 범위 조사\n",
    "studs = [19,18,19,21,20,24,19,19,20,18,21,22,23,21,19,18,22,24,21,18,19]\n",
    "\n",
    "rs = max(studs)-min(studs)\n",
    "max(studs),min(studs),rs"
   ]
  },
  {
   "cell_type": "markdown",
   "id": "c7a00181-15d4-4205-a612-cafcc6db6905",
   "metadata": {},
   "source": [
    "# 분산\n",
    "\n",
    "* 평균을 중심으로 밀집되거나 퍼짐 정도를 나타내는 척도\n",
    "* 모분산 $ \\sigma^2 $ : 모집단을 구성하는 모든 자료값과 모평균의 편차제곱에 대한 평균\n",
    "* 표본분산 $ s^2 $: 표본을 구성하는 모든 자료값과 표본평균의 편차의 제곱합을 n-1로 나눈 수치\n",
    "\n",
    "* 편차    \n",
    "> $(x_{i} - \\bar{x})$\n",
    "\n",
    "* 편차제곱\n",
    "> $(x_{i} - \\bar{x})^2$\n",
    "\n",
    "* 모분산\n",
    "> ## $ \\frac {\\sum(x_{i} - \\bar{x})^2}{N} $\n",
    "\n",
    "* 표본분산\n",
    "> ## $ \\frac {\\sum(x_{i} - \\bar{x})^2}{n-1} $\n"
   ]
  },
  {
   "cell_type": "code",
   "execution_count": 13,
   "id": "cdbc6964-28a9-48ac-9dca-4146da81ebc6",
   "metadata": {},
   "outputs": [
    {
     "name": "stdout",
     "output_type": "stream",
     "text": [
      "4.0\n",
      "[ 3.  2. -1. -1. -3.] 0.0\n",
      "[9. 4. 1. 1. 9.] 24.0\n",
      "4.8\n"
     ]
    }
   ],
   "source": [
    "nums1 = [7,6,3,3,1]\n",
    "\n",
    "# 평균계산\n",
    "mean = np.mean(nums1)\n",
    "print(mean)\n",
    "\n",
    "# 편차계산\n",
    "devi = nums1 - mean\n",
    "print(devi, np.sum(devi))  # 편차의 합은 0 - 차이가 없어짐\n",
    "\n",
    "# 편차제곱\n",
    "devi = (nums1 - mean) ** 2\n",
    "print(devi, np.sum(devi))  # 편차의 제곱 합은 양수 - 차이가 있음\n",
    "\n",
    "# 분산 : 편차 제곱합을 데이터 갯수로 나눔\n",
    "print(np.sum(devi) / len(nums1))"
   ]
  },
  {
   "cell_type": "code",
   "execution_count": 14,
   "id": "1ef69a9f-7ff2-4894-ad06-cc9c92f4448c",
   "metadata": {},
   "outputs": [
    {
     "data": {
      "text/plain": [
       "4.8"
      ]
     },
     "execution_count": 14,
     "metadata": {},
     "output_type": "execute_result"
    }
   ],
   "source": [
    "# numpy 에서는 var 함수로 분산 계산\n",
    "np.var(nums1)  # 모분산\n",
    "# np,var(nums1, ddof=1) # 표본분산"
   ]
  },
  {
   "cell_type": "code",
   "execution_count": 19,
   "id": "40bc3945-abd7-4dae-a3f9-6e6494e4bec0",
   "metadata": {},
   "outputs": [
    {
     "name": "stdout",
     "output_type": "stream",
     "text": [
      "251.88751714677642\n",
      "251.88751714677642\n"
     ]
    }
   ],
   "source": [
    "# 조선조 왕들 수명의 분산 조사\n",
    "print(np.var(kings))\n",
    "\n",
    "mean_k = np.mean(kings)\n",
    "devi_k = (kings - mean_k)**2\n",
    "var_k = np.sum(devi_k) / len(kings)\n",
    "print(var_k)"
   ]
  },
  {
   "cell_type": "code",
   "execution_count": 21,
   "id": "ac32c49a-50b1-4c42-b8b0-8e5705453f3d",
   "metadata": {},
   "outputs": [
    {
     "name": "stdout",
     "output_type": "stream",
     "text": [
      "3.5147392290249426\n",
      "3.5147392290249426\n"
     ]
    }
   ],
   "source": [
    "# 대학원생들 나이의 분산 조사\n",
    "print(np.var(studs))\n",
    "\n",
    "mean_s = np.mean(studs)\n",
    "devi_s = (studs - mean_s)**2\n",
    "var_s = np.sum(devi_s) / len(studs)\n",
    "print(var_s)"
   ]
  },
  {
   "cell_type": "code",
   "execution_count": 23,
   "id": "2c9ec9d2-d77a-4f73-a81b-f6f2e3736f03",
   "metadata": {},
   "outputs": [
    {
     "name": "stdout",
     "output_type": "stream",
     "text": [
      "27.2 270.0\n"
     ]
    }
   ],
   "source": [
    "# A부서와 B부서 사원의 비상금 분산 조사\n",
    "a = [30,26,40,28,26]\n",
    "b = [35,20,60,15,20]\n",
    "\n",
    "print(np.var(a),np.var(b))"
   ]
  },
  {
   "cell_type": "markdown",
   "id": "e1eae295-ada3-4f1a-85db-88322d8092b5",
   "metadata": {},
   "source": [
    "# 표준편차\n",
    "\n",
    "* 분산값에 제곱근을 취한 값\n",
    "* 분산은 편차를 제곱했기 때문에 결과값의 단위 역시 제곱이 됨\n",
    "* 분산의 단위를 원래 자료의 단위로 전환하기 위해 만든 값\n",
    "\n",
    "* 모표준편차 $\\sigma$\n",
    "> ## $ \\sqrt \\frac {\\sum(x_{i} - \\bar{x})^2}{N} $\n",
    "\n",
    "* 표본 표준편차 $s$\n",
    "> ## $ \\sqrt \\frac {\\sum(x_{i} - \\bar{x})^2}{n-1} $\n"
   ]
  },
  {
   "cell_type": "code",
   "execution_count": 27,
   "id": "5aca760d-6b9f-4d98-b642-e3d3b234e4d9",
   "metadata": {},
   "outputs": [
    {
     "data": {
      "text/plain": [
       "2.1908902300206643"
      ]
     },
     "execution_count": 27,
     "metadata": {},
     "output_type": "execute_result"
    }
   ],
   "source": [
    "# numpy에서는 std 함수로 표준편차를 계산\n",
    "nums1 = [7,6,3,3,1]\n",
    "\n",
    "# np.sqrt(np.var(nums1))\n",
    "np.std(nums1)"
   ]
  },
  {
   "cell_type": "code",
   "execution_count": 26,
   "id": "6d34109e-fd03-4f7e-a5af-a8e937c18d7d",
   "metadata": {},
   "outputs": [
    {
     "data": {
      "text/plain": [
       "0.6324555320336759"
      ]
     },
     "execution_count": 26,
     "metadata": {},
     "output_type": "execute_result"
    }
   ],
   "source": [
    "nums2 = [3,4,4,5,4]\n",
    "np.sqrt(np.var(nums2))"
   ]
  },
  {
   "cell_type": "code",
   "execution_count": 29,
   "id": "4066ff16-d1c0-4e00-937c-62a7fb667928",
   "metadata": {},
   "outputs": [
    {
     "data": {
      "text/plain": [
       "0.0"
      ]
     },
     "execution_count": 29,
     "metadata": {},
     "output_type": "execute_result"
    }
   ],
   "source": [
    "nums3 = [4,4,4,4,4]\n",
    "np.std(nums3)"
   ]
  },
  {
   "cell_type": "code",
   "execution_count": null,
   "id": "2ff1db33-ecb8-4d82-bc15-177217019ea2",
   "metadata": {},
   "outputs": [],
   "source": [
    "# 조선조 왕들 수명의 표준편차 조사"
   ]
  },
  {
   "cell_type": "code",
   "execution_count": null,
   "id": "362e5d5c-c858-4672-a3cd-a26262ee4644",
   "metadata": {},
   "outputs": [],
   "source": [
    "# 대학원생들 나이의 표준편차 조사"
   ]
  },
  {
   "cell_type": "code",
   "execution_count": null,
   "id": "4909f94a-eb2b-4c33-bc77-52d3cb94aaab",
   "metadata": {},
   "outputs": [],
   "source": [
    "# A부서와 B부서 사원의 비상금 표준편차 조사"
   ]
  },
  {
   "cell_type": "markdown",
   "id": "ee378809-8370-4163-b9a8-fd0a14e5166b",
   "metadata": {},
   "source": [
    "# 사분위수\n",
    "\n",
    "* 데이터를 가장 작은수부터 가장 큰수까지 정렬하였을때 1/4, 2/4, 3/4 위치에 있는 수를 의미\n",
    "* 이 각각의 수를 `1사분위수`, `2사분위수`, `3사분위수`라고 하는데\n",
    "`2사분위수`는 **중앙값**과 같음\n",
    "  + $Q_1$ : 25% 지점 \n",
    "  + $Q_2$ : 50% 지점 (중앙값)\n",
    "  + $Q_3$ : 75% 지점\n",
    "\n",
    "* 때로 위치를 1/100단위로 나눈 경우도 있는데, 이때 `백분위수`를 사용함\n",
    "* 한편, 사분위수를 구하는 방법은 크게 **9가지**가 존재하는데 **대상 데이터의 유형**에 따라 적용방법이 다름\n",
    "* numpy의 percentile함수의 interpolation 속성으로 계산방법을 지정할 수 있음 (nearst, lower, higher, linear, midpoint)\n",
    "\n",
    "* `사분위 범위`(IQR, InterQuartile Range)는 제3사분위수에서 제1사분위수 간의 범위\n",
    "* `사분위 범위` 사이의 구간에는 항상 전체 데이터의 `50%`가 포함됨\n"
   ]
  },
  {
   "cell_type": "code",
   "execution_count": 35,
   "id": "ab2c3eec-1905-4756-b87b-25e2f539cced",
   "metadata": {},
   "outputs": [
    {
     "name": "stdout",
     "output_type": "stream",
     "text": [
      "3.0\n",
      "1.5\n",
      "5.0\n",
      "3.5\n"
     ]
    }
   ],
   "source": [
    "# numpy에서는 quantile 함수로 사분위수 계산\n",
    "# quantile(대상, 분위수)\n",
    "nums = [1,1,2,3,3,3,4,5,5,7]\n",
    "\n",
    "# 먼저, 중앙값(Q2) 계산\n",
    "# 자료의 갯수가 10이므로 가운데 있는 두 개의 3의 평균이 중앙값임\n",
    "print((3+3)/2)\n",
    "      \n",
    "# 중앙값(Q2)을 기준으로 Q1 계산\n",
    "print((1+2)/2)\n",
    "\n",
    "# 중앙값(Q2)을 기준으로 Q3 계산\n",
    "print((5+5)/2)\n",
    "      \n",
    "# 사분위수 범위 IQR 계산 : Q3 - Q1\n",
    "print(5-1.5)"
   ]
  },
  {
   "cell_type": "code",
   "execution_count": 36,
   "id": "4f6ecd7c-e45d-457b-b98a-5ddef650d7a5",
   "metadata": {},
   "outputs": [
    {
     "name": "stdout",
     "output_type": "stream",
     "text": [
      "1사분위수 2.25\n",
      "2사분위수 3.0\n",
      "3사분위수 4.75\n"
     ]
    }
   ],
   "source": [
    "print('1사분위수',np.quantile(nums, .25))\n",
    "print('2사분위수',np.quantile(nums, .5))\n",
    "print('3사분위수',np.quantile(nums, .75))"
   ]
  },
  {
   "cell_type": "code",
   "execution_count": 54,
   "id": "1d834354-e3d2-40eb-8b00-89e23ca994a0",
   "metadata": {},
   "outputs": [
    {
     "name": "stdout",
     "output_type": "stream",
     "text": [
      "[1, 3, 3, 3, 4, 4, 4, 6, 6]\n",
      "2.0\n",
      "1\n"
     ]
    }
   ],
   "source": [
    "nums = [1,3,3,3,4,4,4,6,6]\n",
    "nums = sorted(nums)\n",
    "print(nums)\n",
    "\n",
    "q3 = (4+6)/2\n",
    "q1 = (3+3)/2\n",
    "iqr = q3-q1\n",
    "print(iqr)\n",
    "print(np.quantile(nums, .75,method='nearest')-np.quantile(nums,.25,method='nearest'))"
   ]
  },
  {
   "cell_type": "code",
   "execution_count": 55,
   "id": "62956ed6-cb92-4e39-a843-36b53b97779d",
   "metadata": {},
   "outputs": [
    {
     "name": "stdout",
     "output_type": "stream",
     "text": [
      "[1, 1, 3, 4, 4, 5, 5, 5, 6, 7, 9]\n",
      "3\n",
      "3\n"
     ]
    }
   ],
   "source": [
    "nums = [5,9,1,3,4,1,5,7,6,4,5]\n",
    "nums = sorted(nums)\n",
    "print(nums)\n",
    "\n",
    "q3 = 6\n",
    "q1 = 3\n",
    "iqr = q3-q1\n",
    "print(iqr)\n",
    "print(np.quantile(nums, .75,method='nearest')-np.quantile(nums,.25,method='nearest'))"
   ]
  },
  {
   "cell_type": "markdown",
   "id": "e85e23cd-87e4-4a56-92f0-332603e1a41c",
   "metadata": {},
   "source": [
    "# 변동성을 이용한 특이값 진단\n",
    "\n",
    "* 대부분의 자료는 중심경향치 주변에 몰려있음\n",
    "* 변동성 측정치를 이용하면 중심에서 벗어난 정도를 파악할 수 있음\n",
    "* 평균에서 벗어난 정도를 판단할 때는 **표준편차**를 사용\n",
    "* 평균에서 표준편차의 n배 떨어져 있으면 \"n 표준편차\"와 같이 표현\n",
    "* 중간값에서 벗어난 정도를 판단할 때는 IQR을 사용\n",
    "* 중심경향치에서 크게 벗어났다면 **특이값**으로 의심할 수 있음"
   ]
  },
  {
   "cell_type": "code",
   "execution_count": 58,
   "id": "097ce400-fb14-4711-9d57-629917fe1e3d",
   "metadata": {
    "tags": []
   },
   "outputs": [
    {
     "name": "stdout",
     "output_type": "stream",
     "text": [
      "a    50.0\n",
      "b    50.0\n",
      "dtype: float64\n",
      "a    22.360680\n",
      "b    21.505813\n",
      "dtype: float64\n"
     ]
    }
   ],
   "source": [
    "## 어떤 카푸치노 판매점들의 5일 동안 오후 4~5시 사이의 판매량 데이터를 보고\n",
    "## 어느 지점이 판매를 잘하였는지 파악하시오\n",
    "\n",
    "A = [20,40,50,60,80]\n",
    "B = [20,45,50,55,80]\n",
    "\n",
    "sales = pd.DataFrame({'a':A,'b':B})\n",
    "\n",
    "print(sales.mean())\n",
    "print(sales.std())  # B지점이 변동폭이 적음"
   ]
  },
  {
   "cell_type": "markdown",
   "id": "907892b9-0eda-4bfa-9584-3e8500e0737c",
   "metadata": {},
   "source": [
    "### 사원들의 연봉의 표준편차, 사분위수"
   ]
  },
  {
   "cell_type": "code",
   "execution_count": 59,
   "id": "febd4533-a249-4c2b-984c-6eeb2708e91f",
   "metadata": {},
   "outputs": [],
   "source": [
    "emp = pd.read_csv('data/EMPLOYEES.csv')"
   ]
  },
  {
   "cell_type": "code",
   "execution_count": 65,
   "id": "cf00f8d4-97c0-40c1-9d5e-bea196b8aa22",
   "metadata": {},
   "outputs": [
    {
     "name": "stdout",
     "output_type": "stream",
     "text": [
      "6461.8317757009345\n",
      "3909.5797305524825\n",
      "3100 6200 9000 5900\n"
     ]
    }
   ],
   "source": [
    "print(emp.SALARY.mean())\n",
    "print(emp.SALARY.std())\n",
    "q1,q2,q3 = np.quantile(emp.SALARY,[.25,.5,.75],method='nearest')\n",
    "print(q1,q2,q3,q3-q1)"
   ]
  },
  {
   "cell_type": "code",
   "execution_count": null,
   "id": "04bcc4c4-a8cd-4cd6-abf1-a7d9a668aecf",
   "metadata": {},
   "outputs": [],
   "source": []
  }
 ],
 "metadata": {
  "kernelspec": {
   "display_name": "Python 3",
   "language": "python",
   "name": "python3"
  },
  "language_info": {
   "codemirror_mode": {
    "name": "ipython",
    "version": 3
   },
   "file_extension": ".py",
   "mimetype": "text/x-python",
   "name": "python",
   "nbconvert_exporter": "python",
   "pygments_lexer": "ipython3",
   "version": "3.9.12"
  }
 },
 "nbformat": 4,
 "nbformat_minor": 5
}
